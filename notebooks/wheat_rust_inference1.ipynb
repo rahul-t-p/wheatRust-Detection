{
 "cells": [
  {
   "cell_type": "code",
   "execution_count": 0,
   "metadata": {
    "colab": {},
    "colab_type": "code",
    "id": "1NqzRCHc3c3H"
   },
   "outputs": [],
   "source": [
    "%%capture\n",
    "!pip install -U catalyst\n",
    "!pip install albumentations\n",
    "!pip install pretrainedmodels\n",
    "!pip install efficientnet-pytorch"
   ]
  },
  {
   "cell_type": "markdown",
   "metadata": {
    "colab_type": "text",
    "id": "eLSJLrp0_yOg"
   },
   "source": [
    "# Importing packages\n",
    "\n",
    "---\n",
    "\n"
   ]
  },
  {
   "cell_type": "code",
   "execution_count": 1,
   "metadata": {
    "colab": {
     "base_uri": "https://localhost:8080/",
     "height": 52
    },
    "colab_type": "code",
    "id": "_N9D8Gug_0cH",
    "outputId": "b3ae050a-ceb9-4fff-8950-6777d6c1760a"
   },
   "outputs": [
    {
     "name": "stderr",
     "output_type": "stream",
     "text": [
      "alchemy not available, to install alchemy, run `pip install alchemy-catalyst`.\n",
      "alchemy not available, to install alchemy, run `pip install alchemy-catalyst`.\n"
     ]
    }
   ],
   "source": [
    "import torch\n",
    "import torch.nn as nn\n",
    "\n",
    "import pandas as pd\n",
    "import numpy as np\n",
    "\n",
    "\n",
    "import catalyst\n",
    "from catalyst.dl import utils\n"
   ]
  },
  {
   "cell_type": "markdown",
   "metadata": {
    "colab_type": "text",
    "id": "wWRgfxA-ACIf"
   },
   "source": [
    "# Test augmentations"
   ]
  },
  {
   "cell_type": "code",
   "execution_count": 2,
   "metadata": {
    "colab": {
     "base_uri": "https://localhost:8080/",
     "height": 176
    },
    "colab_type": "code",
    "id": "rItt5AbzrIa7",
    "outputId": "86e23d02-d36f-4034-a059-83dce83da6bc"
   },
   "outputs": [
    {
     "name": "stderr",
     "output_type": "stream",
     "text": [
      "/usr/lib/python3.6/importlib/_bootstrap.py:219: RuntimeWarning:\n",
      "\n",
      "numpy.ufunc size changed, may indicate binary incompatibility. Expected 192 from C header, got 216 from PyObject\n",
      "\n",
      "/usr/local/lib/python3.6/dist-packages/torchvision/extension.py:11: ResourceWarning:\n",
      "\n",
      "unclosed file <_io.BufferedReader name='/usr/local/lib/python3.6/dist-packages/torchvision/_C.so'>\n",
      "\n"
     ]
    }
   ],
   "source": [
    "import albumentations as albu\n",
    "from albumentations.pytorch import ToTensor\n",
    "\n",
    "BORDER_CONSTANT = 0\n",
    "BORDER_REFLECT = 2\n",
    "\n",
    "def pre_transforms(image_size=224):\n",
    "    # Convert the image to a square of size image_size x image_size\n",
    "    # (keeping aspect ratio)\n",
    "    result = [\n",
    "        albu.LongestMaxSize(max_size=image_size),\n",
    "        albu.PadIfNeeded(image_size, image_size, border_mode=BORDER_CONSTANT)\n",
    "    ]\n",
    "    \n",
    "    return result\n",
    "\n",
    "def hard_transforms():\n",
    "    result = [\n",
    "        # Random shifts, stretches and turns with a 50% probability\n",
    "        albu.ShiftScaleRotate( \n",
    "            shift_limit=0.1,\n",
    "            scale_limit=0.1,\n",
    "            rotate_limit=15,\n",
    "            border_mode=BORDER_REFLECT,\n",
    "            p=0.5\n",
    "        ),\n",
    "        albu.VerticalFlip(),\n",
    "        albu.IAAPerspective(scale=(0.02, 0.05), p=0.3),\n",
    "        # Random brightness / contrast with a 30% probability\n",
    "        albu.RandomBrightnessContrast(\n",
    "            brightness_limit=0.2, contrast_limit=0.2, p=0.3\n",
    "        ),\n",
    "        # Random gamma changes with a 30% probability\n",
    "        albu.RandomGamma(gamma_limit=(85, 115), p=0.3),\n",
    "        # Randomly changes the hue, saturation, and color value of the input image\n",
    "        albu.HueSaturationValue(p=0.3),\n",
    "        albu.JpegCompression(quality_lower=80),\n",
    "    ]\n",
    "    \n",
    "    return result\n",
    "\n",
    "def post_transforms():\n",
    "    # we use ImageNet image normalization\n",
    "    # and convert it to torch.Tensor\n",
    "    return [albu.Normalize(), ToTensor()]\n",
    "\n",
    "def compose(transforms_to_compose):\n",
    "    # combine all augmentations into one single pipeline\n",
    "    result = albu.Compose([\n",
    "      item for sublist in transforms_to_compose for item in sublist\n",
    "    ])\n",
    "    return result"
   ]
  },
  {
   "cell_type": "code",
   "execution_count": 0,
   "metadata": {
    "colab": {},
    "colab_type": "code",
    "id": "1ha9VqqLrTN3"
   },
   "outputs": [],
   "source": [
    "from catalyst.data import Augmentor\n",
    "\n",
    "valid_transforms = compose([pre_transforms(), post_transforms()])\n",
    "valid_data_transforms = Augmentor(\n",
    "    dict_key=\"features\",\n",
    "    augment_fn=lambda x: valid_transforms(image=x)[\"image\"]\n",
    ")"
   ]
  },
  {
   "cell_type": "markdown",
   "metadata": {
    "colab_type": "text",
    "id": "MIIIQl5HAHki"
   },
   "source": [
    "# Test Loader"
   ]
  },
  {
   "cell_type": "code",
   "execution_count": 9,
   "metadata": {
    "colab": {
     "base_uri": "https://localhost:8080/",
     "height": 206
    },
    "colab_type": "code",
    "id": "8izmursAs0u6",
    "outputId": "d7401f10-6732-40d8-d220-7bfa8c9c3596"
   },
   "outputs": [
    {
     "data": {
      "text/html": [
       "<div>\n",
       "<style scoped>\n",
       "    .dataframe tbody tr th:only-of-type {\n",
       "        vertical-align: middle;\n",
       "    }\n",
       "\n",
       "    .dataframe tbody tr th {\n",
       "        vertical-align: top;\n",
       "    }\n",
       "\n",
       "    .dataframe thead th {\n",
       "        text-align: right;\n",
       "    }\n",
       "</style>\n",
       "<table border=\"1\" class=\"dataframe\">\n",
       "  <thead>\n",
       "    <tr style=\"text-align: right;\">\n",
       "      <th></th>\n",
       "      <th>filepath</th>\n",
       "    </tr>\n",
       "  </thead>\n",
       "  <tbody>\n",
       "    <tr>\n",
       "      <th>0</th>\n",
       "      <td>ICLR/test/test/008FWT.JPG</td>\n",
       "    </tr>\n",
       "    <tr>\n",
       "      <th>1</th>\n",
       "      <td>ICLR/test/test/00AQXY.JPG</td>\n",
       "    </tr>\n",
       "    <tr>\n",
       "      <th>2</th>\n",
       "      <td>ICLR/test/test/01OJZX.JPG</td>\n",
       "    </tr>\n",
       "    <tr>\n",
       "      <th>3</th>\n",
       "      <td>ICLR/test/test/07OXKK.jfif</td>\n",
       "    </tr>\n",
       "    <tr>\n",
       "      <th>4</th>\n",
       "      <td>ICLR/test/test/085IEC.jpg</td>\n",
       "    </tr>\n",
       "  </tbody>\n",
       "</table>\n",
       "</div>"
      ],
      "text/plain": [
       "                     filepath\n",
       "0   ICLR/test/test/008FWT.JPG\n",
       "1   ICLR/test/test/00AQXY.JPG\n",
       "2   ICLR/test/test/01OJZX.JPG\n",
       "3  ICLR/test/test/07OXKK.jfif\n",
       "4   ICLR/test/test/085IEC.jpg"
      ]
     },
     "execution_count": 9,
     "metadata": {
      "tags": []
     },
     "output_type": "execute_result"
    }
   ],
   "source": [
    "test_df = pd.read_csv('test.csv')\n",
    "test_df.head()"
   ]
  },
  {
   "cell_type": "code",
   "execution_count": 0,
   "metadata": {
    "colab": {},
    "colab_type": "code",
    "id": "kQy87qGLUkYq"
   },
   "outputs": [],
   "source": [
    "test_data = test_df.to_dict('records')"
   ]
  },
  {
   "cell_type": "code",
   "execution_count": 0,
   "metadata": {
    "colab": {},
    "colab_type": "code",
    "id": "jYi-UF6GKesA"
   },
   "outputs": [],
   "source": [
    "from catalyst.data import ImageReader, ScalarReader, ReaderCompose\n",
    "test_loader = utils.get_loader(\n",
    "        test_data,\n",
    "        open_fn=ReaderCompose([\n",
    "                ImageReader(\n",
    "                input_key=\"filepath\",\n",
    "                output_key=\"features\",\n",
    "                rootpath=None\n",
    "            )        \n",
    "        ]),\n",
    "        dict_transform=valid_data_transforms,\n",
    "        batch_size=64,\n",
    "        num_workers=4,\n",
    "        shuffle=False, \n",
    "        sampler=None,\n",
    "        drop_last=False,\n",
    "    )"
   ]
  },
  {
   "cell_type": "markdown",
   "metadata": {
    "colab_type": "text",
    "id": "Op43IdPkASEq"
   },
   "source": [
    "# Model"
   ]
  },
  {
   "cell_type": "code",
   "execution_count": 0,
   "metadata": {
    "colab": {},
    "colab_type": "code",
    "id": "Lnvj4vizvmnM"
   },
   "outputs": [],
   "source": [
    "from efficientnet_pytorch import EfficientNet\n",
    "\n",
    "def get_model(n_classes):\n",
    "    model = EfficientNet.from_pretrained('efficientnet-b0') \n",
    "    in_features = model._fc.in_features\n",
    "    model._fc = torch.nn.Linear(in_features, n_classes)\n",
    "    return model"
   ]
  },
  {
   "cell_type": "code",
   "execution_count": 6,
   "metadata": {
    "colab": {
     "base_uri": "https://localhost:8080/",
     "height": 121,
     "referenced_widgets": [
      "a303ef4867cf46cca8287f978484831f",
      "23a9f1a1af1d4984b036d21e9eb0fb9b",
      "eb808bda3b6d43349d580d7a2863c657",
      "d106e6c6a9124ddea98a60e69a14ee47",
      "abc2a594cc0c4e60a3b12ee5023b5e15",
      "c3ce02e46fc942a496c6c090d0262eab",
      "9c527e5e333c44b4958dfe0232a98e83",
      "d007d2ab54a743788bbbe995c057dfa4"
     ]
    },
    "colab_type": "code",
    "id": "vKdR_MpCt90_",
    "outputId": "0bc0bedc-d462-4161-ff43-0317931122e6"
   },
   "outputs": [
    {
     "name": "stderr",
     "output_type": "stream",
     "text": [
      "Downloading: \"https://github.com/lukemelas/EfficientNet-PyTorch/releases/download/1.0/efficientnet-b0-355c32eb.pth\" to /root/.cache/torch/checkpoints/efficientnet-b0-355c32eb.pth\n"
     ]
    },
    {
     "data": {
      "application/vnd.jupyter.widget-view+json": {
       "model_id": "a303ef4867cf46cca8287f978484831f",
       "version_major": 2,
       "version_minor": 0
      },
      "text/plain": [
       "HBox(children=(FloatProgress(value=0.0, max=21388428.0), HTML(value='')))"
      ]
     },
     "metadata": {
      "tags": []
     },
     "output_type": "display_data"
    },
    {
     "name": "stdout",
     "output_type": "stream",
     "text": [
      "\n",
      "Loaded pretrained weights for efficientnet-b0\n"
     ]
    }
   ],
   "source": [
    "model = get_model(3)"
   ]
  },
  {
   "cell_type": "markdown",
   "metadata": {
    "colab_type": "text",
    "id": "HLo7OEqWAUt4"
   },
   "source": [
    "# Prediction"
   ]
  },
  {
   "cell_type": "code",
   "execution_count": 0,
   "metadata": {
    "colab": {},
    "colab_type": "code",
    "id": "6WxC9BfP_ofb"
   },
   "outputs": [],
   "source": [
    "from catalyst.dl import SupervisedRunner\n",
    "device = utils.get_device()\n",
    "runner = SupervisedRunner(device=device,input_target_key=\"targets_one_hot\")"
   ]
  },
  {
   "cell_type": "code",
   "execution_count": 13,
   "metadata": {
    "colab": {
     "base_uri": "https://localhost:8080/",
     "height": 324
    },
    "colab_type": "code",
    "id": "Naei9WSRX4JM",
    "outputId": "468bb2c9-90bf-470c-d3fe-521af140b0ef"
   },
   "outputs": [
    {
     "name": "stderr",
     "output_type": "stream",
     "text": [
      "/usr/lib/python3.6/importlib/_bootstrap.py:219: RuntimeWarning:\n",
      "\n",
      "numpy.ufunc size changed, may indicate binary incompatibility. Expected 216, got 192\n",
      "\n",
      "/usr/lib/python3.6/importlib/_bootstrap.py:219: ImportWarning:\n",
      "\n",
      "can't resolve package from __spec__ or __package__, falling back on __name__ and __path__\n",
      "\n",
      "/usr/local/lib/python3.6/dist-packages/tensorflow_core/python/keras/backend.py:5747: ResourceWarning:\n",
      "\n",
      "unclosed file <_io.TextIOWrapper name='/root/.keras/keras.json' mode='r' encoding='UTF-8'>\n",
      "\n"
     ]
    },
    {
     "data": {
      "text/html": [
       "<p style=\"color: red;\">\n",
       "The default version of TensorFlow in Colab will soon switch to TensorFlow 2.x.<br>\n",
       "We recommend you <a href=\"https://www.tensorflow.org/guide/migrate\" target=\"_blank\">upgrade</a> now \n",
       "or ensure your notebook will continue to use TensorFlow 1.x via the <code>%tensorflow_version 1.x</code> magic:\n",
       "<a href=\"https://colab.research.google.com/notebooks/tensorflow_version.ipynb\" target=\"_blank\">more info</a>.</p>\n"
      ],
      "text/plain": [
       "<IPython.core.display.HTML object>"
      ]
     },
     "metadata": {
      "tags": []
     },
     "output_type": "display_data"
    },
    {
     "name": "stdout",
     "output_type": "stream",
     "text": [
      "=> loading checkpoint drive/My Drive/DS/wheat_rust/model1_best.pth\n",
      "loaded checkpoint drive/My Drive/DS/wheat_rust/model1_best.pth (global epoch 8, epoch 8, stage train)\n"
     ]
    }
   ],
   "source": [
    "runner_out = runner.predict_loader(\n",
    "    model, test_loader, resume=f\"drive/My Drive/DS/wheat_rust/model1_best.pth\"\n",
    ")"
   ]
  },
  {
   "cell_type": "code",
   "execution_count": 14,
   "metadata": {
    "colab": {
     "base_uri": "https://localhost:8080/",
     "height": 34
    },
    "colab_type": "code",
    "id": "EYWGvkrgYbjr",
    "outputId": "a1e0c5cb-6215-4b3b-ac9c-bee2a0f8ee8c"
   },
   "outputs": [
    {
     "data": {
      "text/plain": [
       "(610, 3)"
      ]
     },
     "execution_count": 14,
     "metadata": {
      "tags": []
     },
     "output_type": "execute_result"
    }
   ],
   "source": [
    "runner_out.shape"
   ]
  },
  {
   "cell_type": "code",
   "execution_count": 15,
   "metadata": {
    "colab": {
     "base_uri": "https://localhost:8080/",
     "height": 139
    },
    "colab_type": "code",
    "id": "h_l2ZBTlC2GM",
    "outputId": "bee8f2d1-a069-49e6-920a-9fb75e03ecf4"
   },
   "outputs": [
    {
     "data": {
      "text/plain": [
       "array([[-4.681852 ,  0.6134349, -1.2900218],\n",
       "       [-5.433887 , -4.927367 ,  4.3162065],\n",
       "       [-4.681852 ,  0.6134349, -1.2900218],\n",
       "       ...,\n",
       "       [-6.535986 , -6.8402276,  5.714055 ],\n",
       "       [-4.986258 , -1.9813712,  2.063176 ],\n",
       "       [-2.7113864, -1.0770136, -0.6659966]], dtype=float32)"
      ]
     },
     "execution_count": 15,
     "metadata": {
      "tags": []
     },
     "output_type": "execute_result"
    }
   ],
   "source": [
    "runner_out"
   ]
  },
  {
   "cell_type": "code",
   "execution_count": 16,
   "metadata": {
    "colab": {
     "base_uri": "https://localhost:8080/",
     "height": 139
    },
    "colab_type": "code",
    "id": "igui3PxyAdmo",
    "outputId": "33e056cd-546b-492e-d6a3-02c945be77c4"
   },
   "outputs": [
    {
     "data": {
      "text/plain": [
       "array([[4.3456522e-03, 8.6650032e-01, 1.2915404e-01],\n",
       "       [5.8280184e-05, 9.6716249e-05, 9.9984503e-01],\n",
       "       [4.3456522e-03, 8.6650032e-01, 1.2915404e-01],\n",
       "       ...,\n",
       "       [4.7848812e-06, 3.5297217e-06, 9.9999166e-01],\n",
       "       [8.5223158e-04, 1.7201381e-02, 9.8194641e-01],\n",
       "       [7.2158322e-02, 3.6990103e-01, 5.5794060e-01]], dtype=float32)"
      ]
     },
     "execution_count": 16,
     "metadata": {
      "tags": []
     },
     "output_type": "execute_result"
    }
   ],
   "source": [
    "out = torch.nn.Softmax(dim=1)(torch.from_numpy(runner_out)).numpy()\n",
    "out"
   ]
  },
  {
   "cell_type": "code",
   "execution_count": 17,
   "metadata": {
    "colab": {
     "base_uri": "https://localhost:8080/",
     "height": 206
    },
    "colab_type": "code",
    "id": "pYjNxddVFxy9",
    "outputId": "3d78464a-d6d1-41e8-bd7c-27e8599a57a0"
   },
   "outputs": [
    {
     "data": {
      "text/html": [
       "<div>\n",
       "<style scoped>\n",
       "    .dataframe tbody tr th:only-of-type {\n",
       "        vertical-align: middle;\n",
       "    }\n",
       "\n",
       "    .dataframe tbody tr th {\n",
       "        vertical-align: top;\n",
       "    }\n",
       "\n",
       "    .dataframe thead th {\n",
       "        text-align: right;\n",
       "    }\n",
       "</style>\n",
       "<table border=\"1\" class=\"dataframe\">\n",
       "  <thead>\n",
       "    <tr style=\"text-align: right;\">\n",
       "      <th></th>\n",
       "      <th>filepath</th>\n",
       "      <th>ID</th>\n",
       "    </tr>\n",
       "  </thead>\n",
       "  <tbody>\n",
       "    <tr>\n",
       "      <th>0</th>\n",
       "      <td>ICLR/test/test/008FWT.JPG</td>\n",
       "      <td>008FWT</td>\n",
       "    </tr>\n",
       "    <tr>\n",
       "      <th>1</th>\n",
       "      <td>ICLR/test/test/00AQXY.JPG</td>\n",
       "      <td>00AQXY</td>\n",
       "    </tr>\n",
       "    <tr>\n",
       "      <th>2</th>\n",
       "      <td>ICLR/test/test/01OJZX.JPG</td>\n",
       "      <td>01OJZX</td>\n",
       "    </tr>\n",
       "    <tr>\n",
       "      <th>3</th>\n",
       "      <td>ICLR/test/test/07OXKK.jfif</td>\n",
       "      <td>07OXKK</td>\n",
       "    </tr>\n",
       "    <tr>\n",
       "      <th>4</th>\n",
       "      <td>ICLR/test/test/085IEC.jpg</td>\n",
       "      <td>085IEC</td>\n",
       "    </tr>\n",
       "  </tbody>\n",
       "</table>\n",
       "</div>"
      ],
      "text/plain": [
       "                     filepath      ID\n",
       "0   ICLR/test/test/008FWT.JPG  008FWT\n",
       "1   ICLR/test/test/00AQXY.JPG  00AQXY\n",
       "2   ICLR/test/test/01OJZX.JPG  01OJZX\n",
       "3  ICLR/test/test/07OXKK.jfif  07OXKK\n",
       "4   ICLR/test/test/085IEC.jpg  085IEC"
      ]
     },
     "execution_count": 17,
     "metadata": {
      "tags": []
     },
     "output_type": "execute_result"
    }
   ],
   "source": [
    "test_df['ID'] = test_df['filepath'].map(lambda x: str(x).split('/')[-1].split('.')[0])\n",
    "test_df.head()"
   ]
  },
  {
   "cell_type": "code",
   "execution_count": 0,
   "metadata": {
    "colab": {},
    "colab_type": "code",
    "id": "cdPdic5XI8Hm"
   },
   "outputs": [],
   "source": [
    "# Remember:\n",
    "tag_to_label = {'healthy_wheat': 0, 'leaf_rust': 1, 'stem_rust': 2}"
   ]
  },
  {
   "cell_type": "code",
   "execution_count": 19,
   "metadata": {
    "colab": {
     "base_uri": "https://localhost:8080/",
     "height": 34
    },
    "colab_type": "code",
    "id": "zW3SM9QuPqej",
    "outputId": "c795de36-70f0-4a6e-bf02-ca48622c19e1"
   },
   "outputs": [
    {
     "data": {
      "text/plain": [
       "(610,)"
      ]
     },
     "execution_count": 19,
     "metadata": {
      "tags": []
     },
     "output_type": "execute_result"
    }
   ],
   "source": [
    "out[:,1].shape"
   ]
  },
  {
   "cell_type": "code",
   "execution_count": 20,
   "metadata": {
    "colab": {
     "base_uri": "https://localhost:8080/",
     "height": 206
    },
    "colab_type": "code",
    "id": "-5pxBWGVNDpD",
    "outputId": "fe42acbc-779a-4534-ef03-59a6b893b199"
   },
   "outputs": [
    {
     "data": {
      "text/html": [
       "<div>\n",
       "<style scoped>\n",
       "    .dataframe tbody tr th:only-of-type {\n",
       "        vertical-align: middle;\n",
       "    }\n",
       "\n",
       "    .dataframe tbody tr th {\n",
       "        vertical-align: top;\n",
       "    }\n",
       "\n",
       "    .dataframe thead th {\n",
       "        text-align: right;\n",
       "    }\n",
       "</style>\n",
       "<table border=\"1\" class=\"dataframe\">\n",
       "  <thead>\n",
       "    <tr style=\"text-align: right;\">\n",
       "      <th></th>\n",
       "      <th>filepath</th>\n",
       "      <th>ID</th>\n",
       "      <th>leaf_rust</th>\n",
       "    </tr>\n",
       "  </thead>\n",
       "  <tbody>\n",
       "    <tr>\n",
       "      <th>0</th>\n",
       "      <td>ICLR/test/test/008FWT.JPG</td>\n",
       "      <td>008FWT</td>\n",
       "      <td>0.866500</td>\n",
       "    </tr>\n",
       "    <tr>\n",
       "      <th>1</th>\n",
       "      <td>ICLR/test/test/00AQXY.JPG</td>\n",
       "      <td>00AQXY</td>\n",
       "      <td>0.000097</td>\n",
       "    </tr>\n",
       "    <tr>\n",
       "      <th>2</th>\n",
       "      <td>ICLR/test/test/01OJZX.JPG</td>\n",
       "      <td>01OJZX</td>\n",
       "      <td>0.866500</td>\n",
       "    </tr>\n",
       "    <tr>\n",
       "      <th>3</th>\n",
       "      <td>ICLR/test/test/07OXKK.jfif</td>\n",
       "      <td>07OXKK</td>\n",
       "      <td>0.007180</td>\n",
       "    </tr>\n",
       "    <tr>\n",
       "      <th>4</th>\n",
       "      <td>ICLR/test/test/085IEC.jpg</td>\n",
       "      <td>085IEC</td>\n",
       "      <td>0.013442</td>\n",
       "    </tr>\n",
       "  </tbody>\n",
       "</table>\n",
       "</div>"
      ],
      "text/plain": [
       "                     filepath      ID  leaf_rust\n",
       "0   ICLR/test/test/008FWT.JPG  008FWT   0.866500\n",
       "1   ICLR/test/test/00AQXY.JPG  00AQXY   0.000097\n",
       "2   ICLR/test/test/01OJZX.JPG  01OJZX   0.866500\n",
       "3  ICLR/test/test/07OXKK.jfif  07OXKK   0.007180\n",
       "4   ICLR/test/test/085IEC.jpg  085IEC   0.013442"
      ]
     },
     "execution_count": 20,
     "metadata": {
      "tags": []
     },
     "output_type": "execute_result"
    }
   ],
   "source": [
    "test_df['leaf_rust'] = out[:,1]\n",
    "test_df.head()"
   ]
  },
  {
   "cell_type": "code",
   "execution_count": 21,
   "metadata": {
    "colab": {
     "base_uri": "https://localhost:8080/",
     "height": 206
    },
    "colab_type": "code",
    "id": "D77_hMgJOGyV",
    "outputId": "de36ebf3-5334-4ec4-cdb0-a3afc6300803"
   },
   "outputs": [
    {
     "data": {
      "text/html": [
       "<div>\n",
       "<style scoped>\n",
       "    .dataframe tbody tr th:only-of-type {\n",
       "        vertical-align: middle;\n",
       "    }\n",
       "\n",
       "    .dataframe tbody tr th {\n",
       "        vertical-align: top;\n",
       "    }\n",
       "\n",
       "    .dataframe thead th {\n",
       "        text-align: right;\n",
       "    }\n",
       "</style>\n",
       "<table border=\"1\" class=\"dataframe\">\n",
       "  <thead>\n",
       "    <tr style=\"text-align: right;\">\n",
       "      <th></th>\n",
       "      <th>filepath</th>\n",
       "      <th>ID</th>\n",
       "      <th>leaf_rust</th>\n",
       "      <th>stem_rust</th>\n",
       "    </tr>\n",
       "  </thead>\n",
       "  <tbody>\n",
       "    <tr>\n",
       "      <th>0</th>\n",
       "      <td>ICLR/test/test/008FWT.JPG</td>\n",
       "      <td>008FWT</td>\n",
       "      <td>0.866500</td>\n",
       "      <td>0.129154</td>\n",
       "    </tr>\n",
       "    <tr>\n",
       "      <th>1</th>\n",
       "      <td>ICLR/test/test/00AQXY.JPG</td>\n",
       "      <td>00AQXY</td>\n",
       "      <td>0.000097</td>\n",
       "      <td>0.999845</td>\n",
       "    </tr>\n",
       "    <tr>\n",
       "      <th>2</th>\n",
       "      <td>ICLR/test/test/01OJZX.JPG</td>\n",
       "      <td>01OJZX</td>\n",
       "      <td>0.866500</td>\n",
       "      <td>0.129154</td>\n",
       "    </tr>\n",
       "    <tr>\n",
       "      <th>3</th>\n",
       "      <td>ICLR/test/test/07OXKK.jfif</td>\n",
       "      <td>07OXKK</td>\n",
       "      <td>0.007180</td>\n",
       "      <td>0.024959</td>\n",
       "    </tr>\n",
       "    <tr>\n",
       "      <th>4</th>\n",
       "      <td>ICLR/test/test/085IEC.jpg</td>\n",
       "      <td>085IEC</td>\n",
       "      <td>0.013442</td>\n",
       "      <td>0.002227</td>\n",
       "    </tr>\n",
       "  </tbody>\n",
       "</table>\n",
       "</div>"
      ],
      "text/plain": [
       "                     filepath      ID  leaf_rust  stem_rust\n",
       "0   ICLR/test/test/008FWT.JPG  008FWT   0.866500   0.129154\n",
       "1   ICLR/test/test/00AQXY.JPG  00AQXY   0.000097   0.999845\n",
       "2   ICLR/test/test/01OJZX.JPG  01OJZX   0.866500   0.129154\n",
       "3  ICLR/test/test/07OXKK.jfif  07OXKK   0.007180   0.024959\n",
       "4   ICLR/test/test/085IEC.jpg  085IEC   0.013442   0.002227"
      ]
     },
     "execution_count": 21,
     "metadata": {
      "tags": []
     },
     "output_type": "execute_result"
    }
   ],
   "source": [
    "test_df['stem_rust'] = out[:,2]\n",
    "test_df.head()"
   ]
  },
  {
   "cell_type": "code",
   "execution_count": 22,
   "metadata": {
    "colab": {
     "base_uri": "https://localhost:8080/",
     "height": 206
    },
    "colab_type": "code",
    "id": "Hd4A1hEZQPx6",
    "outputId": "37480d8f-d58a-4ade-f37d-11f181fbf096"
   },
   "outputs": [
    {
     "data": {
      "text/html": [
       "<div>\n",
       "<style scoped>\n",
       "    .dataframe tbody tr th:only-of-type {\n",
       "        vertical-align: middle;\n",
       "    }\n",
       "\n",
       "    .dataframe tbody tr th {\n",
       "        vertical-align: top;\n",
       "    }\n",
       "\n",
       "    .dataframe thead th {\n",
       "        text-align: right;\n",
       "    }\n",
       "</style>\n",
       "<table border=\"1\" class=\"dataframe\">\n",
       "  <thead>\n",
       "    <tr style=\"text-align: right;\">\n",
       "      <th></th>\n",
       "      <th>filepath</th>\n",
       "      <th>ID</th>\n",
       "      <th>leaf_rust</th>\n",
       "      <th>stem_rust</th>\n",
       "      <th>healthy_wheat</th>\n",
       "    </tr>\n",
       "  </thead>\n",
       "  <tbody>\n",
       "    <tr>\n",
       "      <th>0</th>\n",
       "      <td>ICLR/test/test/008FWT.JPG</td>\n",
       "      <td>008FWT</td>\n",
       "      <td>0.866500</td>\n",
       "      <td>0.129154</td>\n",
       "      <td>0.004346</td>\n",
       "    </tr>\n",
       "    <tr>\n",
       "      <th>1</th>\n",
       "      <td>ICLR/test/test/00AQXY.JPG</td>\n",
       "      <td>00AQXY</td>\n",
       "      <td>0.000097</td>\n",
       "      <td>0.999845</td>\n",
       "      <td>0.000058</td>\n",
       "    </tr>\n",
       "    <tr>\n",
       "      <th>2</th>\n",
       "      <td>ICLR/test/test/01OJZX.JPG</td>\n",
       "      <td>01OJZX</td>\n",
       "      <td>0.866500</td>\n",
       "      <td>0.129154</td>\n",
       "      <td>0.004346</td>\n",
       "    </tr>\n",
       "    <tr>\n",
       "      <th>3</th>\n",
       "      <td>ICLR/test/test/07OXKK.jfif</td>\n",
       "      <td>07OXKK</td>\n",
       "      <td>0.007180</td>\n",
       "      <td>0.024959</td>\n",
       "      <td>0.967861</td>\n",
       "    </tr>\n",
       "    <tr>\n",
       "      <th>4</th>\n",
       "      <td>ICLR/test/test/085IEC.jpg</td>\n",
       "      <td>085IEC</td>\n",
       "      <td>0.013442</td>\n",
       "      <td>0.002227</td>\n",
       "      <td>0.984331</td>\n",
       "    </tr>\n",
       "  </tbody>\n",
       "</table>\n",
       "</div>"
      ],
      "text/plain": [
       "                     filepath      ID  leaf_rust  stem_rust  healthy_wheat\n",
       "0   ICLR/test/test/008FWT.JPG  008FWT   0.866500   0.129154       0.004346\n",
       "1   ICLR/test/test/00AQXY.JPG  00AQXY   0.000097   0.999845       0.000058\n",
       "2   ICLR/test/test/01OJZX.JPG  01OJZX   0.866500   0.129154       0.004346\n",
       "3  ICLR/test/test/07OXKK.jfif  07OXKK   0.007180   0.024959       0.967861\n",
       "4   ICLR/test/test/085IEC.jpg  085IEC   0.013442   0.002227       0.984331"
      ]
     },
     "execution_count": 22,
     "metadata": {
      "tags": []
     },
     "output_type": "execute_result"
    }
   ],
   "source": [
    "test_df['healthy_wheat'] = out[:,0]\n",
    "test_df.head()"
   ]
  },
  {
   "cell_type": "code",
   "execution_count": 23,
   "metadata": {
    "colab": {
     "base_uri": "https://localhost:8080/",
     "height": 34
    },
    "colab_type": "code",
    "id": "TfMJukpIQvJK",
    "outputId": "38280780-4724-4d56-b53c-546ba42691ca"
   },
   "outputs": [
    {
     "data": {
      "text/plain": [
       "(610, 5)"
      ]
     },
     "execution_count": 23,
     "metadata": {
      "tags": []
     },
     "output_type": "execute_result"
    }
   ],
   "source": [
    "test_df.shape"
   ]
  },
  {
   "cell_type": "code",
   "execution_count": 24,
   "metadata": {
    "colab": {
     "base_uri": "https://localhost:8080/",
     "height": 206
    },
    "colab_type": "code",
    "id": "-5kVMErJIYIQ",
    "outputId": "25f744f9-0465-43b3-9e43-a87d26d9b82f"
   },
   "outputs": [
    {
     "data": {
      "text/html": [
       "<div>\n",
       "<style scoped>\n",
       "    .dataframe tbody tr th:only-of-type {\n",
       "        vertical-align: middle;\n",
       "    }\n",
       "\n",
       "    .dataframe tbody tr th {\n",
       "        vertical-align: top;\n",
       "    }\n",
       "\n",
       "    .dataframe thead th {\n",
       "        text-align: right;\n",
       "    }\n",
       "</style>\n",
       "<table border=\"1\" class=\"dataframe\">\n",
       "  <thead>\n",
       "    <tr style=\"text-align: right;\">\n",
       "      <th></th>\n",
       "      <th>ID</th>\n",
       "      <th>leaf_rust</th>\n",
       "      <th>stem_rust</th>\n",
       "      <th>healthy_wheat</th>\n",
       "    </tr>\n",
       "  </thead>\n",
       "  <tbody>\n",
       "    <tr>\n",
       "      <th>0</th>\n",
       "      <td>008FWT</td>\n",
       "      <td>0.866500</td>\n",
       "      <td>0.129154</td>\n",
       "      <td>0.004346</td>\n",
       "    </tr>\n",
       "    <tr>\n",
       "      <th>1</th>\n",
       "      <td>00AQXY</td>\n",
       "      <td>0.000097</td>\n",
       "      <td>0.999845</td>\n",
       "      <td>0.000058</td>\n",
       "    </tr>\n",
       "    <tr>\n",
       "      <th>2</th>\n",
       "      <td>01OJZX</td>\n",
       "      <td>0.866500</td>\n",
       "      <td>0.129154</td>\n",
       "      <td>0.004346</td>\n",
       "    </tr>\n",
       "    <tr>\n",
       "      <th>3</th>\n",
       "      <td>07OXKK</td>\n",
       "      <td>0.007180</td>\n",
       "      <td>0.024959</td>\n",
       "      <td>0.967861</td>\n",
       "    </tr>\n",
       "    <tr>\n",
       "      <th>4</th>\n",
       "      <td>085IEC</td>\n",
       "      <td>0.013442</td>\n",
       "      <td>0.002227</td>\n",
       "      <td>0.984331</td>\n",
       "    </tr>\n",
       "  </tbody>\n",
       "</table>\n",
       "</div>"
      ],
      "text/plain": [
       "       ID  leaf_rust  stem_rust  healthy_wheat\n",
       "0  008FWT   0.866500   0.129154       0.004346\n",
       "1  00AQXY   0.000097   0.999845       0.000058\n",
       "2  01OJZX   0.866500   0.129154       0.004346\n",
       "3  07OXKK   0.007180   0.024959       0.967861\n",
       "4  085IEC   0.013442   0.002227       0.984331"
      ]
     },
     "execution_count": 24,
     "metadata": {
      "tags": []
     },
     "output_type": "execute_result"
    }
   ],
   "source": [
    "sub_df = test_df.copy()\n",
    "sub_df.drop(columns=['filepath'], inplace=True)\n",
    "sub_df.head()"
   ]
  },
  {
   "cell_type": "code",
   "execution_count": 0,
   "metadata": {
    "colab": {},
    "colab_type": "code",
    "id": "Qh-tjAsTQbvt"
   },
   "outputs": [],
   "source": [
    "sub_df.to_csv('submission_model1.csv', index=False)"
   ]
  },
  {
   "cell_type": "markdown",
   "metadata": {
    "colab_type": "text",
    "id": "i7tSu6mIBjZz"
   },
   "source": [
    "# Getting pseudo labels"
   ]
  },
  {
   "cell_type": "code",
   "execution_count": 26,
   "metadata": {
    "colab": {
     "base_uri": "https://localhost:8080/",
     "height": 34
    },
    "colab_type": "code",
    "id": "v3JvcMS1CIaT",
    "outputId": "6a3d6df0-4fa6-473a-ba00-e4e4249ce4e2"
   },
   "outputs": [
    {
     "data": {
      "text/plain": [
       "(610, 5)"
      ]
     },
     "execution_count": 26,
     "metadata": {
      "tags": []
     },
     "output_type": "execute_result"
    }
   ],
   "source": [
    "test_df.shape"
   ]
  },
  {
   "cell_type": "code",
   "execution_count": 27,
   "metadata": {
    "colab": {
     "base_uri": "https://localhost:8080/",
     "height": 206
    },
    "colab_type": "code",
    "id": "L1a_o3pSCZEH",
    "outputId": "8e560c17-294b-480d-afdc-52afd9c2f7d5"
   },
   "outputs": [
    {
     "data": {
      "text/html": [
       "<div>\n",
       "<style scoped>\n",
       "    .dataframe tbody tr th:only-of-type {\n",
       "        vertical-align: middle;\n",
       "    }\n",
       "\n",
       "    .dataframe tbody tr th {\n",
       "        vertical-align: top;\n",
       "    }\n",
       "\n",
       "    .dataframe thead th {\n",
       "        text-align: right;\n",
       "    }\n",
       "</style>\n",
       "<table border=\"1\" class=\"dataframe\">\n",
       "  <thead>\n",
       "    <tr style=\"text-align: right;\">\n",
       "      <th></th>\n",
       "      <th>filepath</th>\n",
       "      <th>ID</th>\n",
       "      <th>leaf_rust</th>\n",
       "      <th>stem_rust</th>\n",
       "      <th>healthy_wheat</th>\n",
       "    </tr>\n",
       "  </thead>\n",
       "  <tbody>\n",
       "    <tr>\n",
       "      <th>0</th>\n",
       "      <td>ICLR/test/test/008FWT.JPG</td>\n",
       "      <td>008FWT</td>\n",
       "      <td>0.866500</td>\n",
       "      <td>0.129154</td>\n",
       "      <td>0.004346</td>\n",
       "    </tr>\n",
       "    <tr>\n",
       "      <th>1</th>\n",
       "      <td>ICLR/test/test/00AQXY.JPG</td>\n",
       "      <td>00AQXY</td>\n",
       "      <td>0.000097</td>\n",
       "      <td>0.999845</td>\n",
       "      <td>0.000058</td>\n",
       "    </tr>\n",
       "    <tr>\n",
       "      <th>2</th>\n",
       "      <td>ICLR/test/test/01OJZX.JPG</td>\n",
       "      <td>01OJZX</td>\n",
       "      <td>0.866500</td>\n",
       "      <td>0.129154</td>\n",
       "      <td>0.004346</td>\n",
       "    </tr>\n",
       "    <tr>\n",
       "      <th>3</th>\n",
       "      <td>ICLR/test/test/07OXKK.jfif</td>\n",
       "      <td>07OXKK</td>\n",
       "      <td>0.007180</td>\n",
       "      <td>0.024959</td>\n",
       "      <td>0.967861</td>\n",
       "    </tr>\n",
       "    <tr>\n",
       "      <th>4</th>\n",
       "      <td>ICLR/test/test/085IEC.jpg</td>\n",
       "      <td>085IEC</td>\n",
       "      <td>0.013442</td>\n",
       "      <td>0.002227</td>\n",
       "      <td>0.984331</td>\n",
       "    </tr>\n",
       "  </tbody>\n",
       "</table>\n",
       "</div>"
      ],
      "text/plain": [
       "                     filepath      ID  leaf_rust  stem_rust  healthy_wheat\n",
       "0   ICLR/test/test/008FWT.JPG  008FWT   0.866500   0.129154       0.004346\n",
       "1   ICLR/test/test/00AQXY.JPG  00AQXY   0.000097   0.999845       0.000058\n",
       "2   ICLR/test/test/01OJZX.JPG  01OJZX   0.866500   0.129154       0.004346\n",
       "3  ICLR/test/test/07OXKK.jfif  07OXKK   0.007180   0.024959       0.967861\n",
       "4   ICLR/test/test/085IEC.jpg  085IEC   0.013442   0.002227       0.984331"
      ]
     },
     "execution_count": 27,
     "metadata": {
      "tags": []
     },
     "output_type": "execute_result"
    }
   ],
   "source": [
    "pseudo_df = test_df[(test_df.leaf_rust>0.75) | (test_df.stem_rust>0.75) | (test_df.healthy_wheat>0.75)]\n",
    "pseudo_df.head()"
   ]
  },
  {
   "cell_type": "code",
   "execution_count": 28,
   "metadata": {
    "colab": {
     "base_uri": "https://localhost:8080/",
     "height": 34
    },
    "colab_type": "code",
    "id": "LvrXjR7IDI-G",
    "outputId": "b7638ea1-bd66-4c37-b86a-f79328f353fe"
   },
   "outputs": [
    {
     "data": {
      "text/plain": [
       "(537, 5)"
      ]
     },
     "execution_count": 28,
     "metadata": {
      "tags": []
     },
     "output_type": "execute_result"
    }
   ],
   "source": [
    "pseudo_df.shape"
   ]
  },
  {
   "cell_type": "code",
   "execution_count": 29,
   "metadata": {
    "colab": {
     "base_uri": "https://localhost:8080/",
     "height": 643
    },
    "colab_type": "code",
    "id": "4H-5zzAd7IQ5",
    "outputId": "a86b81de-7424-4769-d8f0-02baa6093d6e"
   },
   "outputs": [
    {
     "name": "stderr",
     "output_type": "stream",
     "text": [
      "/usr/local/lib/python3.6/dist-packages/ipykernel_launcher.py:1: SettingWithCopyWarning:\n",
      "\n",
      "\n",
      "A value is trying to be set on a copy of a slice from a DataFrame.\n",
      "Try using .loc[row_indexer,col_indexer] = value instead\n",
      "\n",
      "See the caveats in the documentation: http://pandas.pydata.org/pandas-docs/stable/user_guide/indexing.html#returning-a-view-versus-a-copy\n",
      "\n",
      "/usr/local/lib/python3.6/dist-packages/ipykernel_launcher.py:2: SettingWithCopyWarning:\n",
      "\n",
      "\n",
      "A value is trying to be set on a copy of a slice from a DataFrame.\n",
      "Try using .loc[row_indexer,col_indexer] = value instead\n",
      "\n",
      "See the caveats in the documentation: http://pandas.pydata.org/pandas-docs/stable/user_guide/indexing.html#returning-a-view-versus-a-copy\n",
      "\n",
      "/usr/local/lib/python3.6/dist-packages/ipykernel_launcher.py:3: SettingWithCopyWarning:\n",
      "\n",
      "\n",
      "A value is trying to be set on a copy of a slice from a DataFrame.\n",
      "Try using .loc[row_indexer,col_indexer] = value instead\n",
      "\n",
      "See the caveats in the documentation: http://pandas.pydata.org/pandas-docs/stable/user_guide/indexing.html#returning-a-view-versus-a-copy\n",
      "\n"
     ]
    },
    {
     "data": {
      "text/html": [
       "<div>\n",
       "<style scoped>\n",
       "    .dataframe tbody tr th:only-of-type {\n",
       "        vertical-align: middle;\n",
       "    }\n",
       "\n",
       "    .dataframe tbody tr th {\n",
       "        vertical-align: top;\n",
       "    }\n",
       "\n",
       "    .dataframe thead th {\n",
       "        text-align: right;\n",
       "    }\n",
       "</style>\n",
       "<table border=\"1\" class=\"dataframe\">\n",
       "  <thead>\n",
       "    <tr style=\"text-align: right;\">\n",
       "      <th></th>\n",
       "      <th>filepath</th>\n",
       "      <th>ID</th>\n",
       "      <th>leaf_rust</th>\n",
       "      <th>stem_rust</th>\n",
       "      <th>healthy_wheat</th>\n",
       "      <th>label</th>\n",
       "      <th>class</th>\n",
       "    </tr>\n",
       "  </thead>\n",
       "  <tbody>\n",
       "    <tr>\n",
       "      <th>0</th>\n",
       "      <td>ICLR/test/test/008FWT.JPG</td>\n",
       "      <td>008FWT</td>\n",
       "      <td>0.866500</td>\n",
       "      <td>0.129154</td>\n",
       "      <td>0.004346</td>\n",
       "      <td>1</td>\n",
       "      <td>leaf_rust</td>\n",
       "    </tr>\n",
       "    <tr>\n",
       "      <th>1</th>\n",
       "      <td>ICLR/test/test/00AQXY.JPG</td>\n",
       "      <td>00AQXY</td>\n",
       "      <td>0.000097</td>\n",
       "      <td>0.999845</td>\n",
       "      <td>0.000058</td>\n",
       "      <td>2</td>\n",
       "      <td>stem_rust</td>\n",
       "    </tr>\n",
       "    <tr>\n",
       "      <th>2</th>\n",
       "      <td>ICLR/test/test/01OJZX.JPG</td>\n",
       "      <td>01OJZX</td>\n",
       "      <td>0.866500</td>\n",
       "      <td>0.129154</td>\n",
       "      <td>0.004346</td>\n",
       "      <td>1</td>\n",
       "      <td>leaf_rust</td>\n",
       "    </tr>\n",
       "    <tr>\n",
       "      <th>3</th>\n",
       "      <td>ICLR/test/test/07OXKK.jfif</td>\n",
       "      <td>07OXKK</td>\n",
       "      <td>0.007180</td>\n",
       "      <td>0.024959</td>\n",
       "      <td>0.967861</td>\n",
       "      <td>0</td>\n",
       "      <td>healthy_wheat</td>\n",
       "    </tr>\n",
       "    <tr>\n",
       "      <th>4</th>\n",
       "      <td>ICLR/test/test/085IEC.jpg</td>\n",
       "      <td>085IEC</td>\n",
       "      <td>0.013442</td>\n",
       "      <td>0.002227</td>\n",
       "      <td>0.984331</td>\n",
       "      <td>0</td>\n",
       "      <td>healthy_wheat</td>\n",
       "    </tr>\n",
       "  </tbody>\n",
       "</table>\n",
       "</div>"
      ],
      "text/plain": [
       "                     filepath      ID  ...  label          class\n",
       "0   ICLR/test/test/008FWT.JPG  008FWT  ...      1      leaf_rust\n",
       "1   ICLR/test/test/00AQXY.JPG  00AQXY  ...      2      stem_rust\n",
       "2   ICLR/test/test/01OJZX.JPG  01OJZX  ...      1      leaf_rust\n",
       "3  ICLR/test/test/07OXKK.jfif  07OXKK  ...      0  healthy_wheat\n",
       "4   ICLR/test/test/085IEC.jpg  085IEC  ...      0  healthy_wheat\n",
       "\n",
       "[5 rows x 7 columns]"
      ]
     },
     "execution_count": 29,
     "metadata": {
      "tags": []
     },
     "output_type": "execute_result"
    }
   ],
   "source": [
    "pseudo_df['label'] = -1\n",
    "pseudo_df['class'] = pseudo_df[['leaf_rust', 'stem_rust', 'healthy_wheat']].idxmax(axis=1)\n",
    "pseudo_df['label'] = pseudo_df['class'].map(lambda x: tag_to_label[x])\n",
    "pseudo_df.head()"
   ]
  },
  {
   "cell_type": "code",
   "execution_count": 30,
   "metadata": {
    "colab": {
     "base_uri": "https://localhost:8080/",
     "height": 206
    },
    "colab_type": "code",
    "id": "tAmoI-aOagvQ",
    "outputId": "f5267614-ff86-4ed8-f225-c09aa8a5a144"
   },
   "outputs": [
    {
     "data": {
      "text/html": [
       "<div>\n",
       "<style scoped>\n",
       "    .dataframe tbody tr th:only-of-type {\n",
       "        vertical-align: middle;\n",
       "    }\n",
       "\n",
       "    .dataframe tbody tr th {\n",
       "        vertical-align: top;\n",
       "    }\n",
       "\n",
       "    .dataframe thead th {\n",
       "        text-align: right;\n",
       "    }\n",
       "</style>\n",
       "<table border=\"1\" class=\"dataframe\">\n",
       "  <thead>\n",
       "    <tr style=\"text-align: right;\">\n",
       "      <th></th>\n",
       "      <th>class</th>\n",
       "      <th>filepath</th>\n",
       "      <th>label</th>\n",
       "    </tr>\n",
       "  </thead>\n",
       "  <tbody>\n",
       "    <tr>\n",
       "      <th>0</th>\n",
       "      <td>leaf_rust</td>\n",
       "      <td>ICLR/test/test/008FWT.JPG</td>\n",
       "      <td>1</td>\n",
       "    </tr>\n",
       "    <tr>\n",
       "      <th>1</th>\n",
       "      <td>stem_rust</td>\n",
       "      <td>ICLR/test/test/00AQXY.JPG</td>\n",
       "      <td>2</td>\n",
       "    </tr>\n",
       "    <tr>\n",
       "      <th>2</th>\n",
       "      <td>leaf_rust</td>\n",
       "      <td>ICLR/test/test/01OJZX.JPG</td>\n",
       "      <td>1</td>\n",
       "    </tr>\n",
       "    <tr>\n",
       "      <th>3</th>\n",
       "      <td>healthy_wheat</td>\n",
       "      <td>ICLR/test/test/07OXKK.jfif</td>\n",
       "      <td>0</td>\n",
       "    </tr>\n",
       "    <tr>\n",
       "      <th>4</th>\n",
       "      <td>healthy_wheat</td>\n",
       "      <td>ICLR/test/test/085IEC.jpg</td>\n",
       "      <td>0</td>\n",
       "    </tr>\n",
       "  </tbody>\n",
       "</table>\n",
       "</div>"
      ],
      "text/plain": [
       "           class                    filepath  label\n",
       "0      leaf_rust   ICLR/test/test/008FWT.JPG      1\n",
       "1      stem_rust   ICLR/test/test/00AQXY.JPG      2\n",
       "2      leaf_rust   ICLR/test/test/01OJZX.JPG      1\n",
       "3  healthy_wheat  ICLR/test/test/07OXKK.jfif      0\n",
       "4  healthy_wheat   ICLR/test/test/085IEC.jpg      0"
      ]
     },
     "execution_count": 30,
     "metadata": {
      "tags": []
     },
     "output_type": "execute_result"
    }
   ],
   "source": [
    "pseudo_df = pseudo_df[['class', 'filepath', 'label']]\n",
    "pseudo_df.head()"
   ]
  },
  {
   "cell_type": "code",
   "execution_count": 0,
   "metadata": {
    "colab": {},
    "colab_type": "code",
    "id": "y9FKoWw1PaF-"
   },
   "outputs": [],
   "source": [
    "pseudo_df.to_csv('pseudo_labels1.csv', index=False)"
   ]
  },
  {
   "cell_type": "code",
   "execution_count": 0,
   "metadata": {
    "colab": {},
    "colab_type": "code",
    "id": "Yg9PnopxNIJj"
   },
   "outputs": [],
   "source": []
  }
 ],
 "metadata": {
  "accelerator": "GPU",
  "colab": {
   "name": "wheat_rust_inference1.ipynb",
   "provenance": [],
   "toc_visible": true
  },
  "kernelspec": {
   "display_name": "Python 3",
   "language": "python",
   "name": "python3"
  },
  "language_info": {
   "codemirror_mode": {
    "name": "ipython",
    "version": 3
   },
   "file_extension": ".py",
   "mimetype": "text/x-python",
   "name": "python",
   "nbconvert_exporter": "python",
   "pygments_lexer": "ipython3",
   "version": "3.9.5"
  },
  "widgets": {
   "application/vnd.jupyter.widget-state+json": {
    "23a9f1a1af1d4984b036d21e9eb0fb9b": {
     "model_module": "@jupyter-widgets/base",
     "model_name": "LayoutModel",
     "state": {
      "_model_module": "@jupyter-widgets/base",
      "_model_module_version": "1.2.0",
      "_model_name": "LayoutModel",
      "_view_count": null,
      "_view_module": "@jupyter-widgets/base",
      "_view_module_version": "1.2.0",
      "_view_name": "LayoutView",
      "align_content": null,
      "align_items": null,
      "align_self": null,
      "border": null,
      "bottom": null,
      "display": null,
      "flex": null,
      "flex_flow": null,
      "grid_area": null,
      "grid_auto_columns": null,
      "grid_auto_flow": null,
      "grid_auto_rows": null,
      "grid_column": null,
      "grid_gap": null,
      "grid_row": null,
      "grid_template_areas": null,
      "grid_template_columns": null,
      "grid_template_rows": null,
      "height": null,
      "justify_content": null,
      "justify_items": null,
      "left": null,
      "margin": null,
      "max_height": null,
      "max_width": null,
      "min_height": null,
      "min_width": null,
      "object_fit": null,
      "object_position": null,
      "order": null,
      "overflow": null,
      "overflow_x": null,
      "overflow_y": null,
      "padding": null,
      "right": null,
      "top": null,
      "visibility": null,
      "width": null
     }
    },
    "9c527e5e333c44b4958dfe0232a98e83": {
     "model_module": "@jupyter-widgets/controls",
     "model_name": "DescriptionStyleModel",
     "state": {
      "_model_module": "@jupyter-widgets/controls",
      "_model_module_version": "1.5.0",
      "_model_name": "DescriptionStyleModel",
      "_view_count": null,
      "_view_module": "@jupyter-widgets/base",
      "_view_module_version": "1.2.0",
      "_view_name": "StyleView",
      "description_width": ""
     }
    },
    "a303ef4867cf46cca8287f978484831f": {
     "model_module": "@jupyter-widgets/controls",
     "model_name": "HBoxModel",
     "state": {
      "_dom_classes": [],
      "_model_module": "@jupyter-widgets/controls",
      "_model_module_version": "1.5.0",
      "_model_name": "HBoxModel",
      "_view_count": null,
      "_view_module": "@jupyter-widgets/controls",
      "_view_module_version": "1.5.0",
      "_view_name": "HBoxView",
      "box_style": "",
      "children": [
       "IPY_MODEL_eb808bda3b6d43349d580d7a2863c657",
       "IPY_MODEL_d106e6c6a9124ddea98a60e69a14ee47"
      ],
      "layout": "IPY_MODEL_23a9f1a1af1d4984b036d21e9eb0fb9b"
     }
    },
    "abc2a594cc0c4e60a3b12ee5023b5e15": {
     "model_module": "@jupyter-widgets/controls",
     "model_name": "ProgressStyleModel",
     "state": {
      "_model_module": "@jupyter-widgets/controls",
      "_model_module_version": "1.5.0",
      "_model_name": "ProgressStyleModel",
      "_view_count": null,
      "_view_module": "@jupyter-widgets/base",
      "_view_module_version": "1.2.0",
      "_view_name": "StyleView",
      "bar_color": null,
      "description_width": "initial"
     }
    },
    "c3ce02e46fc942a496c6c090d0262eab": {
     "model_module": "@jupyter-widgets/base",
     "model_name": "LayoutModel",
     "state": {
      "_model_module": "@jupyter-widgets/base",
      "_model_module_version": "1.2.0",
      "_model_name": "LayoutModel",
      "_view_count": null,
      "_view_module": "@jupyter-widgets/base",
      "_view_module_version": "1.2.0",
      "_view_name": "LayoutView",
      "align_content": null,
      "align_items": null,
      "align_self": null,
      "border": null,
      "bottom": null,
      "display": null,
      "flex": null,
      "flex_flow": null,
      "grid_area": null,
      "grid_auto_columns": null,
      "grid_auto_flow": null,
      "grid_auto_rows": null,
      "grid_column": null,
      "grid_gap": null,
      "grid_row": null,
      "grid_template_areas": null,
      "grid_template_columns": null,
      "grid_template_rows": null,
      "height": null,
      "justify_content": null,
      "justify_items": null,
      "left": null,
      "margin": null,
      "max_height": null,
      "max_width": null,
      "min_height": null,
      "min_width": null,
      "object_fit": null,
      "object_position": null,
      "order": null,
      "overflow": null,
      "overflow_x": null,
      "overflow_y": null,
      "padding": null,
      "right": null,
      "top": null,
      "visibility": null,
      "width": null
     }
    },
    "d007d2ab54a743788bbbe995c057dfa4": {
     "model_module": "@jupyter-widgets/base",
     "model_name": "LayoutModel",
     "state": {
      "_model_module": "@jupyter-widgets/base",
      "_model_module_version": "1.2.0",
      "_model_name": "LayoutModel",
      "_view_count": null,
      "_view_module": "@jupyter-widgets/base",
      "_view_module_version": "1.2.0",
      "_view_name": "LayoutView",
      "align_content": null,
      "align_items": null,
      "align_self": null,
      "border": null,
      "bottom": null,
      "display": null,
      "flex": null,
      "flex_flow": null,
      "grid_area": null,
      "grid_auto_columns": null,
      "grid_auto_flow": null,
      "grid_auto_rows": null,
      "grid_column": null,
      "grid_gap": null,
      "grid_row": null,
      "grid_template_areas": null,
      "grid_template_columns": null,
      "grid_template_rows": null,
      "height": null,
      "justify_content": null,
      "justify_items": null,
      "left": null,
      "margin": null,
      "max_height": null,
      "max_width": null,
      "min_height": null,
      "min_width": null,
      "object_fit": null,
      "object_position": null,
      "order": null,
      "overflow": null,
      "overflow_x": null,
      "overflow_y": null,
      "padding": null,
      "right": null,
      "top": null,
      "visibility": null,
      "width": null
     }
    },
    "d106e6c6a9124ddea98a60e69a14ee47": {
     "model_module": "@jupyter-widgets/controls",
     "model_name": "HTMLModel",
     "state": {
      "_dom_classes": [],
      "_model_module": "@jupyter-widgets/controls",
      "_model_module_version": "1.5.0",
      "_model_name": "HTMLModel",
      "_view_count": null,
      "_view_module": "@jupyter-widgets/controls",
      "_view_module_version": "1.5.0",
      "_view_name": "HTMLView",
      "description": "",
      "description_tooltip": null,
      "layout": "IPY_MODEL_d007d2ab54a743788bbbe995c057dfa4",
      "placeholder": "​",
      "style": "IPY_MODEL_9c527e5e333c44b4958dfe0232a98e83",
      "value": " 20.4M/20.4M [00:02&lt;00:00, 7.74MB/s]"
     }
    },
    "eb808bda3b6d43349d580d7a2863c657": {
     "model_module": "@jupyter-widgets/controls",
     "model_name": "FloatProgressModel",
     "state": {
      "_dom_classes": [],
      "_model_module": "@jupyter-widgets/controls",
      "_model_module_version": "1.5.0",
      "_model_name": "FloatProgressModel",
      "_view_count": null,
      "_view_module": "@jupyter-widgets/controls",
      "_view_module_version": "1.5.0",
      "_view_name": "ProgressView",
      "bar_style": "success",
      "description": "100%",
      "description_tooltip": null,
      "layout": "IPY_MODEL_c3ce02e46fc942a496c6c090d0262eab",
      "max": 21388428,
      "min": 0,
      "orientation": "horizontal",
      "style": "IPY_MODEL_abc2a594cc0c4e60a3b12ee5023b5e15",
      "value": 21388428
     }
    }
   }
  }
 },
 "nbformat": 4,
 "nbformat_minor": 1
}
