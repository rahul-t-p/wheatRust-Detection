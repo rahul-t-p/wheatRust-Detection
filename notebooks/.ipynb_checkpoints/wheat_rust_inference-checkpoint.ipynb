{
 "cells": [
  {
   "cell_type": "markdown",
   "metadata": {
    "colab_type": "text",
    "id": "6SBuISY76YLg"
   },
   "source": [
    "# Setup Workspace"
   ]
  },
  {
   "cell_type": "code",
   "execution_count": 1,
   "metadata": {
    "colab": {
     "base_uri": "https://localhost:8080/",
     "height": 124
    },
    "colab_type": "code",
    "id": "Wvzqfp1F4DK6",
    "outputId": "66f57c1e-7f41-4cb9-a1f3-568c690f84e6"
   },
   "outputs": [
    {
     "name": "stdout",
     "output_type": "stream",
     "text": [
      "Go to this URL in a browser: https://accounts.google.com/o/oauth2/auth?client_id=947318989803-6bn6qk8qdgf4n4g3pfee6491hc0brc4i.apps.googleusercontent.com&redirect_uri=urn%3aietf%3awg%3aoauth%3a2.0%3aoob&response_type=code&scope=email%20https%3a%2f%2fwww.googleapis.com%2fauth%2fdocs.test%20https%3a%2f%2fwww.googleapis.com%2fauth%2fdrive%20https%3a%2f%2fwww.googleapis.com%2fauth%2fdrive.photos.readonly%20https%3a%2f%2fwww.googleapis.com%2fauth%2fpeopleapi.readonly\n",
      "\n",
      "Enter your authorization code:\n",
      "··········\n",
      "Mounted at /content/drive\n"
     ]
    }
   ],
   "source": [
    "from google.colab import drive\n",
    "drive.mount('/content/drive')"
   ]
  },
  {
   "cell_type": "code",
   "execution_count": 2,
   "metadata": {
    "colab": {
     "base_uri": "https://localhost:8080/",
     "height": 34
    },
    "colab_type": "code",
    "id": "mJ8y_UsY1Ryw",
    "outputId": "37258e7c-af08-41e7-fa14-9b4941224146"
   },
   "outputs": [
    {
     "name": "stdout",
     "output_type": "stream",
     "text": [
      "/content/drive/My Drive/Colab Notebooks\n"
     ]
    }
   ],
   "source": [
    "cd drive/My Drive/Colab Notebooks"
   ]
  },
  {
   "cell_type": "code",
   "execution_count": 0,
   "metadata": {
    "colab": {},
    "colab_type": "code",
    "id": "g7tNc8ZM39bY"
   },
   "outputs": [],
   "source": [
    "#  from google.colab import files\n",
    "#  files.upload()"
   ]
  },
  {
   "cell_type": "code",
   "execution_count": 0,
   "metadata": {
    "colab": {},
    "colab_type": "code",
    "id": "yf4CYXoR5Epd"
   },
   "outputs": [],
   "source": [
    " !pip install -q kaggle"
   ]
  },
  {
   "cell_type": "code",
   "execution_count": 0,
   "metadata": {
    "colab": {},
    "colab_type": "code",
    "id": "XBnwuU_A5dIl"
   },
   "outputs": [],
   "source": [
    " !mkdir -p ~/.kaggle\n",
    " !cp kaggle.json ~/.kaggle/"
   ]
  },
  {
   "cell_type": "code",
   "execution_count": 0,
   "metadata": {
    "colab": {},
    "colab_type": "code",
    "id": "qHuKmdPP5pFg"
   },
   "outputs": [],
   "source": [
    "!chmod 600 ~/.kaggle/kaggle.json"
   ]
  },
  {
   "cell_type": "code",
   "execution_count": 7,
   "metadata": {
    "colab": {
     "base_uri": "https://localhost:8080/",
     "height": 34
    },
    "colab_type": "code",
    "id": "G-RaZc2J-M3o",
    "outputId": "0f7d52fe-e6d3-42f2-fdfa-570b370b31a3"
   },
   "outputs": [
    {
     "name": "stdout",
     "output_type": "stream",
     "text": [
      "/content\n"
     ]
    }
   ],
   "source": [
    "cd /content/"
   ]
  },
  {
   "cell_type": "code",
   "execution_count": 8,
   "metadata": {
    "colab": {
     "base_uri": "https://localhost:8080/",
     "height": 69
    },
    "colab_type": "code",
    "id": "BZYXLkbJU1E7",
    "outputId": "e3312363-dd67-4192-94dd-747873cf8c12"
   },
   "outputs": [
    {
     "name": "stdout",
     "output_type": "stream",
     "text": [
      "Downloading cgiar-computer-vision-for-crop-disease.zip to /content\n",
      "100% 2.99G/3.00G [00:56<00:00, 15.4MB/s]\n",
      "100% 3.00G/3.00G [00:56<00:00, 57.1MB/s]\n"
     ]
    }
   ],
   "source": [
    "!kaggle datasets download -d hakymulla/cgiar-computer-vision-for-crop-disease"
   ]
  },
  {
   "cell_type": "code",
   "execution_count": 0,
   "metadata": {
    "colab": {},
    "colab_type": "code",
    "id": "2_9NLEjx5_tI"
   },
   "outputs": [],
   "source": [
    "%%capture\n",
    "!unzip cgiar-computer-vision-for-crop-disease.zip\n",
    "!rm cgiar-computer-vision-for-crop-disease.zip"
   ]
  },
  {
   "cell_type": "code",
   "execution_count": 0,
   "metadata": {
    "colab": {},
    "colab_type": "code",
    "id": "1NqzRCHc3c3H"
   },
   "outputs": [],
   "source": [
    "%%capture\n",
    "!pip install -U catalyst\n",
    "!pip install albumentations\n",
    "!pip install pretrainedmodels\n",
    "!pip install efficientnet-pytorch"
   ]
  },
  {
   "cell_type": "markdown",
   "metadata": {
    "colab_type": "text",
    "id": "eLSJLrp0_yOg"
   },
   "source": [
    "# Importing packages"
   ]
  },
  {
   "cell_type": "code",
   "execution_count": 1,
   "metadata": {
    "colab": {
     "base_uri": "https://localhost:8080/",
     "height": 52
    },
    "colab_type": "code",
    "id": "_N9D8Gug_0cH",
    "outputId": "941a5213-1a9c-4130-e4bd-74650810049b"
   },
   "outputs": [
    {
     "name": "stderr",
     "output_type": "stream",
     "text": [
      "alchemy not available, to install alchemy, run `pip install alchemy-catalyst`.\n",
      "alchemy not available, to install alchemy, run `pip install alchemy-catalyst`.\n"
     ]
    }
   ],
   "source": [
    "import torch\n",
    "import torch.nn as nn\n",
    "\n",
    "import pandas as pd\n",
    "import numpy as np\n",
    "\n",
    "\n",
    "import catalyst\n",
    "from catalyst.dl import utils\n"
   ]
  },
  {
   "cell_type": "markdown",
   "metadata": {
    "colab_type": "text",
    "id": "wWRgfxA-ACIf"
   },
   "source": [
    "# Test augmentations"
   ]
  },
  {
   "cell_type": "code",
   "execution_count": 2,
   "metadata": {
    "colab": {
     "base_uri": "https://localhost:8080/",
     "height": 176
    },
    "colab_type": "code",
    "id": "rItt5AbzrIa7",
    "outputId": "c7895f2b-5fb6-4241-dd85-56289c709323"
   },
   "outputs": [
    {
     "name": "stderr",
     "output_type": "stream",
     "text": [
      "/usr/lib/python3.6/importlib/_bootstrap.py:219: RuntimeWarning:\n",
      "\n",
      "numpy.ufunc size changed, may indicate binary incompatibility. Expected 192 from C header, got 216 from PyObject\n",
      "\n",
      "/usr/local/lib/python3.6/dist-packages/torchvision/extension.py:11: ResourceWarning:\n",
      "\n",
      "unclosed file <_io.BufferedReader name='/usr/local/lib/python3.6/dist-packages/torchvision/_C.so'>\n",
      "\n"
     ]
    }
   ],
   "source": [
    "import albumentations as albu\n",
    "from albumentations.pytorch import ToTensor\n",
    "\n",
    "BORDER_CONSTANT = 0\n",
    "BORDER_REFLECT = 2\n",
    "\n",
    "def pre_transforms(image_size=224):\n",
    "    # Convert the image to a square of size image_size x image_size\n",
    "    # (keeping aspect ratio)\n",
    "    result = [\n",
    "        albu.LongestMaxSize(max_size=image_size),\n",
    "        albu.PadIfNeeded(image_size, image_size, border_mode=BORDER_CONSTANT)\n",
    "    ]\n",
    "    \n",
    "    return result\n",
    "\n",
    "def hard_transforms():\n",
    "    result = [\n",
    "        # Random shifts, stretches and turns with a 50% probability\n",
    "        albu.ShiftScaleRotate( \n",
    "            shift_limit=0.1,\n",
    "            scale_limit=0.1,\n",
    "            rotate_limit=15,\n",
    "            border_mode=BORDER_REFLECT,\n",
    "            p=0.5\n",
    "        ),\n",
    "        albu.VerticalFlip(),\n",
    "        albu.IAAPerspective(scale=(0.02, 0.05), p=0.3),\n",
    "        # Random brightness / contrast with a 30% probability\n",
    "        albu.RandomBrightnessContrast(\n",
    "            brightness_limit=0.2, contrast_limit=0.2, p=0.3\n",
    "        ),\n",
    "        # Random gamma changes with a 30% probability\n",
    "        albu.RandomGamma(gamma_limit=(85, 115), p=0.3),\n",
    "        # Randomly changes the hue, saturation, and color value of the input image\n",
    "        albu.HueSaturationValue(p=0.3),\n",
    "        albu.JpegCompression(quality_lower=80),\n",
    "    ]\n",
    "    \n",
    "    return result\n",
    "\n",
    "def post_transforms():\n",
    "    # we use ImageNet image normalization\n",
    "    # and convert it to torch.Tensor\n",
    "    return [albu.Normalize(), ToTensor()]\n",
    "\n",
    "def compose(transforms_to_compose):\n",
    "    # combine all augmentations into one single pipeline\n",
    "    result = albu.Compose([\n",
    "      item for sublist in transforms_to_compose for item in sublist\n",
    "    ])\n",
    "    return result"
   ]
  },
  {
   "cell_type": "code",
   "execution_count": 0,
   "metadata": {
    "colab": {},
    "colab_type": "code",
    "id": "1ha9VqqLrTN3"
   },
   "outputs": [],
   "source": [
    "from catalyst.data import Augmentor\n",
    "\n",
    "valid_transforms = compose([pre_transforms(), post_transforms()])\n",
    "valid_data_transforms = Augmentor(\n",
    "    dict_key=\"features\",\n",
    "    augment_fn=lambda x: valid_transforms(image=x)[\"image\"]\n",
    ")"
   ]
  },
  {
   "cell_type": "markdown",
   "metadata": {
    "colab_type": "text",
    "id": "MIIIQl5HAHki"
   },
   "source": [
    "# Test Loader"
   ]
  },
  {
   "cell_type": "code",
   "execution_count": 40,
   "metadata": {
    "colab": {
     "base_uri": "https://localhost:8080/",
     "height": 206
    },
    "colab_type": "code",
    "id": "8izmursAs0u6",
    "outputId": "e89905d2-28e1-4431-e1b8-039a26c21515"
   },
   "outputs": [
    {
     "data": {
      "text/html": [
       "<div>\n",
       "<style scoped>\n",
       "    .dataframe tbody tr th:only-of-type {\n",
       "        vertical-align: middle;\n",
       "    }\n",
       "\n",
       "    .dataframe tbody tr th {\n",
       "        vertical-align: top;\n",
       "    }\n",
       "\n",
       "    .dataframe thead th {\n",
       "        text-align: right;\n",
       "    }\n",
       "</style>\n",
       "<table border=\"1\" class=\"dataframe\">\n",
       "  <thead>\n",
       "    <tr style=\"text-align: right;\">\n",
       "      <th></th>\n",
       "      <th>filepath</th>\n",
       "    </tr>\n",
       "  </thead>\n",
       "  <tbody>\n",
       "    <tr>\n",
       "      <th>0</th>\n",
       "      <td>ICLR/test/test/008FWT.JPG</td>\n",
       "    </tr>\n",
       "    <tr>\n",
       "      <th>1</th>\n",
       "      <td>ICLR/test/test/00AQXY.JPG</td>\n",
       "    </tr>\n",
       "    <tr>\n",
       "      <th>2</th>\n",
       "      <td>ICLR/test/test/01OJZX.JPG</td>\n",
       "    </tr>\n",
       "    <tr>\n",
       "      <th>3</th>\n",
       "      <td>ICLR/test/test/07OXKK.jfif</td>\n",
       "    </tr>\n",
       "    <tr>\n",
       "      <th>4</th>\n",
       "      <td>ICLR/test/test/085IEC.jpg</td>\n",
       "    </tr>\n",
       "  </tbody>\n",
       "</table>\n",
       "</div>"
      ],
      "text/plain": [
       "                     filepath\n",
       "0   ICLR/test/test/008FWT.JPG\n",
       "1   ICLR/test/test/00AQXY.JPG\n",
       "2   ICLR/test/test/01OJZX.JPG\n",
       "3  ICLR/test/test/07OXKK.jfif\n",
       "4   ICLR/test/test/085IEC.jpg"
      ]
     },
     "execution_count": 40,
     "metadata": {
      "tags": []
     },
     "output_type": "execute_result"
    }
   ],
   "source": [
    "test_df = pd.read_csv('test.csv')\n",
    "test_df.head()"
   ]
  },
  {
   "cell_type": "code",
   "execution_count": 0,
   "metadata": {
    "colab": {},
    "colab_type": "code",
    "id": "kQy87qGLUkYq"
   },
   "outputs": [],
   "source": [
    "test_data = test_df.to_dict('records')"
   ]
  },
  {
   "cell_type": "code",
   "execution_count": 0,
   "metadata": {
    "colab": {},
    "colab_type": "code",
    "id": "jYi-UF6GKesA"
   },
   "outputs": [],
   "source": [
    "from catalyst.data import ImageReader, ScalarReader, ReaderCompose\n",
    "test_loader = utils.get_loader(\n",
    "        test_data,\n",
    "        open_fn=ReaderCompose([\n",
    "                ImageReader(\n",
    "                input_key=\"filepath\",\n",
    "                output_key=\"features\",\n",
    "                rootpath=None\n",
    "            )        \n",
    "        ]),\n",
    "        dict_transform=valid_data_transforms,\n",
    "        batch_size=64,\n",
    "        num_workers=4,\n",
    "        shuffle=False, \n",
    "        sampler=None,\n",
    "        drop_last=False,\n",
    "    )"
   ]
  },
  {
   "cell_type": "markdown",
   "metadata": {
    "colab_type": "text",
    "id": "Op43IdPkASEq"
   },
   "source": [
    "# Model"
   ]
  },
  {
   "cell_type": "code",
   "execution_count": 0,
   "metadata": {
    "colab": {},
    "colab_type": "code",
    "id": "Lnvj4vizvmnM"
   },
   "outputs": [],
   "source": [
    "import pretrainedmodels\n",
    "\n",
    "def get_model(no_classes = 3):\n",
    "    model = pretrainedmodels.__dict__['se_resnext50_32x4d'](num_classes=1000, pretrained='imagenet')\n",
    "    model.last_linear = torch.nn.Linear(in_features=2048, out_features=no_classes, bias=True)\n",
    "    return model"
   ]
  },
  {
   "cell_type": "code",
   "execution_count": 0,
   "metadata": {
    "colab": {},
    "colab_type": "code",
    "id": "vKdR_MpCt90_"
   },
   "outputs": [],
   "source": [
    "model = get_model()"
   ]
  },
  {
   "cell_type": "markdown",
   "metadata": {
    "colab_type": "text",
    "id": "HLo7OEqWAUt4"
   },
   "source": [
    "# Prediction"
   ]
  },
  {
   "cell_type": "code",
   "execution_count": 0,
   "metadata": {
    "colab": {},
    "colab_type": "code",
    "id": "6WxC9BfP_ofb"
   },
   "outputs": [],
   "source": [
    "from catalyst.dl import SupervisedRunner\n",
    "device = utils.get_device()\n",
    "runner = SupervisedRunner(device=device,input_target_key=\"targets_one_hot\")"
   ]
  },
  {
   "cell_type": "code",
   "execution_count": 13,
   "metadata": {
    "colab": {
     "base_uri": "https://localhost:8080/",
     "height": 324
    },
    "colab_type": "code",
    "id": "Naei9WSRX4JM",
    "outputId": "828ccfa7-263b-4466-b1da-f0440cd7dbdc"
   },
   "outputs": [
    {
     "name": "stderr",
     "output_type": "stream",
     "text": [
      "/usr/lib/python3.6/importlib/_bootstrap.py:219: RuntimeWarning:\n",
      "\n",
      "numpy.ufunc size changed, may indicate binary incompatibility. Expected 216, got 192\n",
      "\n",
      "/usr/lib/python3.6/importlib/_bootstrap.py:219: ImportWarning:\n",
      "\n",
      "can't resolve package from __spec__ or __package__, falling back on __name__ and __path__\n",
      "\n",
      "/usr/local/lib/python3.6/dist-packages/tensorflow_core/python/keras/backend.py:5747: ResourceWarning:\n",
      "\n",
      "unclosed file <_io.TextIOWrapper name='/root/.keras/keras.json' mode='r' encoding='UTF-8'>\n",
      "\n"
     ]
    },
    {
     "data": {
      "text/html": [
       "<p style=\"color: red;\">\n",
       "The default version of TensorFlow in Colab will soon switch to TensorFlow 2.x.<br>\n",
       "We recommend you <a href=\"https://www.tensorflow.org/guide/migrate\" target=\"_blank\">upgrade</a> now \n",
       "or ensure your notebook will continue to use TensorFlow 1.x via the <code>%tensorflow_version 1.x</code> magic:\n",
       "<a href=\"https://colab.research.google.com/notebooks/tensorflow_version.ipynb\" target=\"_blank\">more info</a>.</p>\n"
      ],
      "text/plain": [
       "<IPython.core.display.HTML object>"
      ]
     },
     "metadata": {
      "tags": []
     },
     "output_type": "display_data"
    },
    {
     "name": "stdout",
     "output_type": "stream",
     "text": [
      "=> loading checkpoint drive/My Drive/DS/wheat_rust/model2_best.pth\n",
      "loaded checkpoint drive/My Drive/DS/wheat_rust/model2_best.pth (global epoch 10, epoch 10, stage train)\n"
     ]
    }
   ],
   "source": [
    "runner_out = runner.predict_loader(\n",
    "    model, test_loader, resume=f\"drive/My Drive/DS/wheat_rust/model2_best.pth\"\n",
    ")"
   ]
  },
  {
   "cell_type": "code",
   "execution_count": 14,
   "metadata": {
    "colab": {
     "base_uri": "https://localhost:8080/",
     "height": 34
    },
    "colab_type": "code",
    "id": "EYWGvkrgYbjr",
    "outputId": "8ed7fcf0-e6e6-40d2-9307-5b4cd69a01c7"
   },
   "outputs": [
    {
     "data": {
      "text/plain": [
       "(610, 3)"
      ]
     },
     "execution_count": 14,
     "metadata": {
      "tags": []
     },
     "output_type": "execute_result"
    }
   ],
   "source": [
    "runner_out.shape"
   ]
  },
  {
   "cell_type": "code",
   "execution_count": 15,
   "metadata": {
    "colab": {
     "base_uri": "https://localhost:8080/",
     "height": 139
    },
    "colab_type": "code",
    "id": "h_l2ZBTlC2GM",
    "outputId": "04e4716b-751d-47d1-faf2-5d77c8125dc9"
   },
   "outputs": [
    {
     "data": {
      "text/plain": [
       "array([[-3.2272155 ,  1.1050463 , -1.7191968 ],\n",
       "       [-6.676533  , -4.5549912 ,  3.6304226 ],\n",
       "       [-3.2272155 ,  1.1050463 , -1.7191968 ],\n",
       "       ...,\n",
       "       [-4.36896   , -3.8224564 ,  2.2452743 ],\n",
       "       [-0.15260103, -2.052269  , -0.20866972],\n",
       "       [-3.68002   ,  1.1020118 , -1.7311789 ]], dtype=float32)"
      ]
     },
     "execution_count": 15,
     "metadata": {
      "tags": []
     },
     "output_type": "execute_result"
    }
   ],
   "source": [
    "runner_out"
   ]
  },
  {
   "cell_type": "code",
   "execution_count": 16,
   "metadata": {
    "colab": {
     "base_uri": "https://localhost:8080/",
     "height": 139
    },
    "colab_type": "code",
    "id": "igui3PxyAdmo",
    "outputId": "43391a6b-4fd8-477a-98c9-c5d057b54d57"
   },
   "outputs": [
    {
     "data": {
      "text/plain": [
       "array([[1.2249790e-02, 9.3240839e-01, 5.5341765e-02],\n",
       "       [3.3389559e-05, 2.7860227e-04, 9.9968803e-01],\n",
       "       [1.2249790e-02, 9.3240839e-01, 5.5341765e-02],\n",
       "       ...,\n",
       "       [1.3362543e-03, 2.3079820e-03, 9.9635577e-01],\n",
       "       [4.7730589e-01, 7.1413688e-02, 4.5128042e-01],\n",
       "       [7.8513166e-03, 9.3702805e-01, 5.5120546e-02]], dtype=float32)"
      ]
     },
     "execution_count": 16,
     "metadata": {
      "tags": []
     },
     "output_type": "execute_result"
    }
   ],
   "source": [
    "out = torch.nn.Softmax(dim=1)(torch.from_numpy(runner_out)).numpy()\n",
    "out"
   ]
  },
  {
   "cell_type": "code",
   "execution_count": 41,
   "metadata": {
    "colab": {
     "base_uri": "https://localhost:8080/",
     "height": 206
    },
    "colab_type": "code",
    "id": "pYjNxddVFxy9",
    "outputId": "b9411de0-304d-4c08-93d3-4d544c2192f7"
   },
   "outputs": [
    {
     "data": {
      "text/html": [
       "<div>\n",
       "<style scoped>\n",
       "    .dataframe tbody tr th:only-of-type {\n",
       "        vertical-align: middle;\n",
       "    }\n",
       "\n",
       "    .dataframe tbody tr th {\n",
       "        vertical-align: top;\n",
       "    }\n",
       "\n",
       "    .dataframe thead th {\n",
       "        text-align: right;\n",
       "    }\n",
       "</style>\n",
       "<table border=\"1\" class=\"dataframe\">\n",
       "  <thead>\n",
       "    <tr style=\"text-align: right;\">\n",
       "      <th></th>\n",
       "      <th>filepath</th>\n",
       "      <th>ID</th>\n",
       "    </tr>\n",
       "  </thead>\n",
       "  <tbody>\n",
       "    <tr>\n",
       "      <th>0</th>\n",
       "      <td>ICLR/test/test/008FWT.JPG</td>\n",
       "      <td>008FWT</td>\n",
       "    </tr>\n",
       "    <tr>\n",
       "      <th>1</th>\n",
       "      <td>ICLR/test/test/00AQXY.JPG</td>\n",
       "      <td>00AQXY</td>\n",
       "    </tr>\n",
       "    <tr>\n",
       "      <th>2</th>\n",
       "      <td>ICLR/test/test/01OJZX.JPG</td>\n",
       "      <td>01OJZX</td>\n",
       "    </tr>\n",
       "    <tr>\n",
       "      <th>3</th>\n",
       "      <td>ICLR/test/test/07OXKK.jfif</td>\n",
       "      <td>07OXKK</td>\n",
       "    </tr>\n",
       "    <tr>\n",
       "      <th>4</th>\n",
       "      <td>ICLR/test/test/085IEC.jpg</td>\n",
       "      <td>085IEC</td>\n",
       "    </tr>\n",
       "  </tbody>\n",
       "</table>\n",
       "</div>"
      ],
      "text/plain": [
       "                     filepath      ID\n",
       "0   ICLR/test/test/008FWT.JPG  008FWT\n",
       "1   ICLR/test/test/00AQXY.JPG  00AQXY\n",
       "2   ICLR/test/test/01OJZX.JPG  01OJZX\n",
       "3  ICLR/test/test/07OXKK.jfif  07OXKK\n",
       "4   ICLR/test/test/085IEC.jpg  085IEC"
      ]
     },
     "execution_count": 41,
     "metadata": {
      "tags": []
     },
     "output_type": "execute_result"
    }
   ],
   "source": [
    "test_df['ID'] = test_df['filepath'].map(lambda x: str(x).split('/')[-1].split('.')[0])\n",
    "test_df.head()"
   ]
  },
  {
   "cell_type": "code",
   "execution_count": 0,
   "metadata": {
    "colab": {},
    "colab_type": "code",
    "id": "cdPdic5XI8Hm"
   },
   "outputs": [],
   "source": [
    "# Remember:\n",
    "tag_to_label = {'healthy_wheat': 0, 'leaf_rust': 1, 'stem_rust': 2}"
   ]
  },
  {
   "cell_type": "code",
   "execution_count": 42,
   "metadata": {
    "colab": {
     "base_uri": "https://localhost:8080/",
     "height": 34
    },
    "colab_type": "code",
    "id": "zW3SM9QuPqej",
    "outputId": "91a3862a-cbf8-4e6f-af73-943702c736eb"
   },
   "outputs": [
    {
     "data": {
      "text/plain": [
       "(610,)"
      ]
     },
     "execution_count": 42,
     "metadata": {
      "tags": []
     },
     "output_type": "execute_result"
    }
   ],
   "source": [
    "out[:,1].shape"
   ]
  },
  {
   "cell_type": "code",
   "execution_count": 43,
   "metadata": {
    "colab": {
     "base_uri": "https://localhost:8080/",
     "height": 206
    },
    "colab_type": "code",
    "id": "-5pxBWGVNDpD",
    "outputId": "6c52d828-c75f-4e9a-eb1b-e5941ddad34d"
   },
   "outputs": [
    {
     "data": {
      "text/html": [
       "<div>\n",
       "<style scoped>\n",
       "    .dataframe tbody tr th:only-of-type {\n",
       "        vertical-align: middle;\n",
       "    }\n",
       "\n",
       "    .dataframe tbody tr th {\n",
       "        vertical-align: top;\n",
       "    }\n",
       "\n",
       "    .dataframe thead th {\n",
       "        text-align: right;\n",
       "    }\n",
       "</style>\n",
       "<table border=\"1\" class=\"dataframe\">\n",
       "  <thead>\n",
       "    <tr style=\"text-align: right;\">\n",
       "      <th></th>\n",
       "      <th>filepath</th>\n",
       "      <th>ID</th>\n",
       "      <th>leaf_rust</th>\n",
       "    </tr>\n",
       "  </thead>\n",
       "  <tbody>\n",
       "    <tr>\n",
       "      <th>0</th>\n",
       "      <td>ICLR/test/test/008FWT.JPG</td>\n",
       "      <td>008FWT</td>\n",
       "      <td>0.932408</td>\n",
       "    </tr>\n",
       "    <tr>\n",
       "      <th>1</th>\n",
       "      <td>ICLR/test/test/00AQXY.JPG</td>\n",
       "      <td>00AQXY</td>\n",
       "      <td>0.000279</td>\n",
       "    </tr>\n",
       "    <tr>\n",
       "      <th>2</th>\n",
       "      <td>ICLR/test/test/01OJZX.JPG</td>\n",
       "      <td>01OJZX</td>\n",
       "      <td>0.932408</td>\n",
       "    </tr>\n",
       "    <tr>\n",
       "      <th>3</th>\n",
       "      <td>ICLR/test/test/07OXKK.jfif</td>\n",
       "      <td>07OXKK</td>\n",
       "      <td>0.002519</td>\n",
       "    </tr>\n",
       "    <tr>\n",
       "      <th>4</th>\n",
       "      <td>ICLR/test/test/085IEC.jpg</td>\n",
       "      <td>085IEC</td>\n",
       "      <td>0.001179</td>\n",
       "    </tr>\n",
       "  </tbody>\n",
       "</table>\n",
       "</div>"
      ],
      "text/plain": [
       "                     filepath      ID  leaf_rust\n",
       "0   ICLR/test/test/008FWT.JPG  008FWT   0.932408\n",
       "1   ICLR/test/test/00AQXY.JPG  00AQXY   0.000279\n",
       "2   ICLR/test/test/01OJZX.JPG  01OJZX   0.932408\n",
       "3  ICLR/test/test/07OXKK.jfif  07OXKK   0.002519\n",
       "4   ICLR/test/test/085IEC.jpg  085IEC   0.001179"
      ]
     },
     "execution_count": 43,
     "metadata": {
      "tags": []
     },
     "output_type": "execute_result"
    }
   ],
   "source": [
    "test_df['leaf_rust'] = out[:,1]\n",
    "test_df.head()"
   ]
  },
  {
   "cell_type": "code",
   "execution_count": 44,
   "metadata": {
    "colab": {
     "base_uri": "https://localhost:8080/",
     "height": 206
    },
    "colab_type": "code",
    "id": "D77_hMgJOGyV",
    "outputId": "65697d2c-2566-4547-e8ee-4ce7d15b096a"
   },
   "outputs": [
    {
     "data": {
      "text/html": [
       "<div>\n",
       "<style scoped>\n",
       "    .dataframe tbody tr th:only-of-type {\n",
       "        vertical-align: middle;\n",
       "    }\n",
       "\n",
       "    .dataframe tbody tr th {\n",
       "        vertical-align: top;\n",
       "    }\n",
       "\n",
       "    .dataframe thead th {\n",
       "        text-align: right;\n",
       "    }\n",
       "</style>\n",
       "<table border=\"1\" class=\"dataframe\">\n",
       "  <thead>\n",
       "    <tr style=\"text-align: right;\">\n",
       "      <th></th>\n",
       "      <th>filepath</th>\n",
       "      <th>ID</th>\n",
       "      <th>leaf_rust</th>\n",
       "      <th>stem_rust</th>\n",
       "    </tr>\n",
       "  </thead>\n",
       "  <tbody>\n",
       "    <tr>\n",
       "      <th>0</th>\n",
       "      <td>ICLR/test/test/008FWT.JPG</td>\n",
       "      <td>008FWT</td>\n",
       "      <td>0.932408</td>\n",
       "      <td>0.055342</td>\n",
       "    </tr>\n",
       "    <tr>\n",
       "      <th>1</th>\n",
       "      <td>ICLR/test/test/00AQXY.JPG</td>\n",
       "      <td>00AQXY</td>\n",
       "      <td>0.000279</td>\n",
       "      <td>0.999688</td>\n",
       "    </tr>\n",
       "    <tr>\n",
       "      <th>2</th>\n",
       "      <td>ICLR/test/test/01OJZX.JPG</td>\n",
       "      <td>01OJZX</td>\n",
       "      <td>0.932408</td>\n",
       "      <td>0.055342</td>\n",
       "    </tr>\n",
       "    <tr>\n",
       "      <th>3</th>\n",
       "      <td>ICLR/test/test/07OXKK.jfif</td>\n",
       "      <td>07OXKK</td>\n",
       "      <td>0.002519</td>\n",
       "      <td>0.004996</td>\n",
       "    </tr>\n",
       "    <tr>\n",
       "      <th>4</th>\n",
       "      <td>ICLR/test/test/085IEC.jpg</td>\n",
       "      <td>085IEC</td>\n",
       "      <td>0.001179</td>\n",
       "      <td>0.000326</td>\n",
       "    </tr>\n",
       "  </tbody>\n",
       "</table>\n",
       "</div>"
      ],
      "text/plain": [
       "                     filepath      ID  leaf_rust  stem_rust\n",
       "0   ICLR/test/test/008FWT.JPG  008FWT   0.932408   0.055342\n",
       "1   ICLR/test/test/00AQXY.JPG  00AQXY   0.000279   0.999688\n",
       "2   ICLR/test/test/01OJZX.JPG  01OJZX   0.932408   0.055342\n",
       "3  ICLR/test/test/07OXKK.jfif  07OXKK   0.002519   0.004996\n",
       "4   ICLR/test/test/085IEC.jpg  085IEC   0.001179   0.000326"
      ]
     },
     "execution_count": 44,
     "metadata": {
      "tags": []
     },
     "output_type": "execute_result"
    }
   ],
   "source": [
    "test_df['stem_rust'] = out[:,2]\n",
    "test_df.head()"
   ]
  },
  {
   "cell_type": "code",
   "execution_count": 45,
   "metadata": {
    "colab": {
     "base_uri": "https://localhost:8080/",
     "height": 206
    },
    "colab_type": "code",
    "id": "Hd4A1hEZQPx6",
    "outputId": "91d797a6-54be-459b-fe27-d850f222109e"
   },
   "outputs": [
    {
     "data": {
      "text/html": [
       "<div>\n",
       "<style scoped>\n",
       "    .dataframe tbody tr th:only-of-type {\n",
       "        vertical-align: middle;\n",
       "    }\n",
       "\n",
       "    .dataframe tbody tr th {\n",
       "        vertical-align: top;\n",
       "    }\n",
       "\n",
       "    .dataframe thead th {\n",
       "        text-align: right;\n",
       "    }\n",
       "</style>\n",
       "<table border=\"1\" class=\"dataframe\">\n",
       "  <thead>\n",
       "    <tr style=\"text-align: right;\">\n",
       "      <th></th>\n",
       "      <th>filepath</th>\n",
       "      <th>ID</th>\n",
       "      <th>leaf_rust</th>\n",
       "      <th>stem_rust</th>\n",
       "      <th>healthy_wheat</th>\n",
       "    </tr>\n",
       "  </thead>\n",
       "  <tbody>\n",
       "    <tr>\n",
       "      <th>0</th>\n",
       "      <td>ICLR/test/test/008FWT.JPG</td>\n",
       "      <td>008FWT</td>\n",
       "      <td>0.932408</td>\n",
       "      <td>0.055342</td>\n",
       "      <td>0.012250</td>\n",
       "    </tr>\n",
       "    <tr>\n",
       "      <th>1</th>\n",
       "      <td>ICLR/test/test/00AQXY.JPG</td>\n",
       "      <td>00AQXY</td>\n",
       "      <td>0.000279</td>\n",
       "      <td>0.999688</td>\n",
       "      <td>0.000033</td>\n",
       "    </tr>\n",
       "    <tr>\n",
       "      <th>2</th>\n",
       "      <td>ICLR/test/test/01OJZX.JPG</td>\n",
       "      <td>01OJZX</td>\n",
       "      <td>0.932408</td>\n",
       "      <td>0.055342</td>\n",
       "      <td>0.012250</td>\n",
       "    </tr>\n",
       "    <tr>\n",
       "      <th>3</th>\n",
       "      <td>ICLR/test/test/07OXKK.jfif</td>\n",
       "      <td>07OXKK</td>\n",
       "      <td>0.002519</td>\n",
       "      <td>0.004996</td>\n",
       "      <td>0.992485</td>\n",
       "    </tr>\n",
       "    <tr>\n",
       "      <th>4</th>\n",
       "      <td>ICLR/test/test/085IEC.jpg</td>\n",
       "      <td>085IEC</td>\n",
       "      <td>0.001179</td>\n",
       "      <td>0.000326</td>\n",
       "      <td>0.998496</td>\n",
       "    </tr>\n",
       "  </tbody>\n",
       "</table>\n",
       "</div>"
      ],
      "text/plain": [
       "                     filepath      ID  leaf_rust  stem_rust  healthy_wheat\n",
       "0   ICLR/test/test/008FWT.JPG  008FWT   0.932408   0.055342       0.012250\n",
       "1   ICLR/test/test/00AQXY.JPG  00AQXY   0.000279   0.999688       0.000033\n",
       "2   ICLR/test/test/01OJZX.JPG  01OJZX   0.932408   0.055342       0.012250\n",
       "3  ICLR/test/test/07OXKK.jfif  07OXKK   0.002519   0.004996       0.992485\n",
       "4   ICLR/test/test/085IEC.jpg  085IEC   0.001179   0.000326       0.998496"
      ]
     },
     "execution_count": 45,
     "metadata": {
      "tags": []
     },
     "output_type": "execute_result"
    }
   ],
   "source": [
    "test_df['healthy_wheat'] = out[:,0]\n",
    "test_df.head()"
   ]
  },
  {
   "cell_type": "code",
   "execution_count": 46,
   "metadata": {
    "colab": {
     "base_uri": "https://localhost:8080/",
     "height": 34
    },
    "colab_type": "code",
    "id": "TfMJukpIQvJK",
    "outputId": "e01806cf-a098-4cea-e725-bb32c487c729"
   },
   "outputs": [
    {
     "data": {
      "text/plain": [
       "(610, 5)"
      ]
     },
     "execution_count": 46,
     "metadata": {
      "tags": []
     },
     "output_type": "execute_result"
    }
   ],
   "source": [
    "test_df.shape"
   ]
  },
  {
   "cell_type": "code",
   "execution_count": 47,
   "metadata": {
    "colab": {
     "base_uri": "https://localhost:8080/",
     "height": 206
    },
    "colab_type": "code",
    "id": "-5kVMErJIYIQ",
    "outputId": "8eee6453-e50c-440b-8589-42e9f58af014"
   },
   "outputs": [
    {
     "data": {
      "text/html": [
       "<div>\n",
       "<style scoped>\n",
       "    .dataframe tbody tr th:only-of-type {\n",
       "        vertical-align: middle;\n",
       "    }\n",
       "\n",
       "    .dataframe tbody tr th {\n",
       "        vertical-align: top;\n",
       "    }\n",
       "\n",
       "    .dataframe thead th {\n",
       "        text-align: right;\n",
       "    }\n",
       "</style>\n",
       "<table border=\"1\" class=\"dataframe\">\n",
       "  <thead>\n",
       "    <tr style=\"text-align: right;\">\n",
       "      <th></th>\n",
       "      <th>ID</th>\n",
       "      <th>leaf_rust</th>\n",
       "      <th>stem_rust</th>\n",
       "      <th>healthy_wheat</th>\n",
       "    </tr>\n",
       "  </thead>\n",
       "  <tbody>\n",
       "    <tr>\n",
       "      <th>0</th>\n",
       "      <td>008FWT</td>\n",
       "      <td>0.932408</td>\n",
       "      <td>0.055342</td>\n",
       "      <td>0.012250</td>\n",
       "    </tr>\n",
       "    <tr>\n",
       "      <th>1</th>\n",
       "      <td>00AQXY</td>\n",
       "      <td>0.000279</td>\n",
       "      <td>0.999688</td>\n",
       "      <td>0.000033</td>\n",
       "    </tr>\n",
       "    <tr>\n",
       "      <th>2</th>\n",
       "      <td>01OJZX</td>\n",
       "      <td>0.932408</td>\n",
       "      <td>0.055342</td>\n",
       "      <td>0.012250</td>\n",
       "    </tr>\n",
       "    <tr>\n",
       "      <th>3</th>\n",
       "      <td>07OXKK</td>\n",
       "      <td>0.002519</td>\n",
       "      <td>0.004996</td>\n",
       "      <td>0.992485</td>\n",
       "    </tr>\n",
       "    <tr>\n",
       "      <th>4</th>\n",
       "      <td>085IEC</td>\n",
       "      <td>0.001179</td>\n",
       "      <td>0.000326</td>\n",
       "      <td>0.998496</td>\n",
       "    </tr>\n",
       "  </tbody>\n",
       "</table>\n",
       "</div>"
      ],
      "text/plain": [
       "       ID  leaf_rust  stem_rust  healthy_wheat\n",
       "0  008FWT   0.932408   0.055342       0.012250\n",
       "1  00AQXY   0.000279   0.999688       0.000033\n",
       "2  01OJZX   0.932408   0.055342       0.012250\n",
       "3  07OXKK   0.002519   0.004996       0.992485\n",
       "4  085IEC   0.001179   0.000326       0.998496"
      ]
     },
     "execution_count": 47,
     "metadata": {
      "tags": []
     },
     "output_type": "execute_result"
    }
   ],
   "source": [
    "sub_df = test_df.copy()\n",
    "sub_df.drop(columns=['filepath'], inplace=True)\n",
    "sub_df.head()"
   ]
  },
  {
   "cell_type": "code",
   "execution_count": 0,
   "metadata": {
    "colab": {},
    "colab_type": "code",
    "id": "Qh-tjAsTQbvt"
   },
   "outputs": [],
   "source": [
    "sub_df.to_csv('submission_model1.csv', index=False)"
   ]
  },
  {
   "cell_type": "markdown",
   "metadata": {
    "colab_type": "text",
    "id": "i7tSu6mIBjZz"
   },
   "source": [
    "# Getting pseudo labels"
   ]
  },
  {
   "cell_type": "code",
   "execution_count": 49,
   "metadata": {
    "colab": {
     "base_uri": "https://localhost:8080/",
     "height": 34
    },
    "colab_type": "code",
    "id": "v3JvcMS1CIaT",
    "outputId": "8a979e52-1829-47f7-970f-c8b82ac634b4"
   },
   "outputs": [
    {
     "data": {
      "text/plain": [
       "(610, 5)"
      ]
     },
     "execution_count": 49,
     "metadata": {
      "tags": []
     },
     "output_type": "execute_result"
    }
   ],
   "source": [
    "test_df.shape"
   ]
  },
  {
   "cell_type": "code",
   "execution_count": 86,
   "metadata": {
    "colab": {
     "base_uri": "https://localhost:8080/",
     "height": 206
    },
    "colab_type": "code",
    "id": "L1a_o3pSCZEH",
    "outputId": "0ad5d4b2-14a1-41be-8c8f-456ae0438d6a"
   },
   "outputs": [
    {
     "data": {
      "text/html": [
       "<div>\n",
       "<style scoped>\n",
       "    .dataframe tbody tr th:only-of-type {\n",
       "        vertical-align: middle;\n",
       "    }\n",
       "\n",
       "    .dataframe tbody tr th {\n",
       "        vertical-align: top;\n",
       "    }\n",
       "\n",
       "    .dataframe thead th {\n",
       "        text-align: right;\n",
       "    }\n",
       "</style>\n",
       "<table border=\"1\" class=\"dataframe\">\n",
       "  <thead>\n",
       "    <tr style=\"text-align: right;\">\n",
       "      <th></th>\n",
       "      <th>filepath</th>\n",
       "      <th>ID</th>\n",
       "      <th>leaf_rust</th>\n",
       "      <th>stem_rust</th>\n",
       "      <th>healthy_wheat</th>\n",
       "    </tr>\n",
       "  </thead>\n",
       "  <tbody>\n",
       "    <tr>\n",
       "      <th>0</th>\n",
       "      <td>ICLR/test/test/008FWT.JPG</td>\n",
       "      <td>008FWT</td>\n",
       "      <td>0.932408</td>\n",
       "      <td>0.055342</td>\n",
       "      <td>0.012250</td>\n",
       "    </tr>\n",
       "    <tr>\n",
       "      <th>1</th>\n",
       "      <td>ICLR/test/test/00AQXY.JPG</td>\n",
       "      <td>00AQXY</td>\n",
       "      <td>0.000279</td>\n",
       "      <td>0.999688</td>\n",
       "      <td>0.000033</td>\n",
       "    </tr>\n",
       "    <tr>\n",
       "      <th>2</th>\n",
       "      <td>ICLR/test/test/01OJZX.JPG</td>\n",
       "      <td>01OJZX</td>\n",
       "      <td>0.932408</td>\n",
       "      <td>0.055342</td>\n",
       "      <td>0.012250</td>\n",
       "    </tr>\n",
       "    <tr>\n",
       "      <th>3</th>\n",
       "      <td>ICLR/test/test/07OXKK.jfif</td>\n",
       "      <td>07OXKK</td>\n",
       "      <td>0.002519</td>\n",
       "      <td>0.004996</td>\n",
       "      <td>0.992485</td>\n",
       "    </tr>\n",
       "    <tr>\n",
       "      <th>4</th>\n",
       "      <td>ICLR/test/test/085IEC.jpg</td>\n",
       "      <td>085IEC</td>\n",
       "      <td>0.001179</td>\n",
       "      <td>0.000326</td>\n",
       "      <td>0.998496</td>\n",
       "    </tr>\n",
       "  </tbody>\n",
       "</table>\n",
       "</div>"
      ],
      "text/plain": [
       "                     filepath      ID  leaf_rust  stem_rust  healthy_wheat\n",
       "0   ICLR/test/test/008FWT.JPG  008FWT   0.932408   0.055342       0.012250\n",
       "1   ICLR/test/test/00AQXY.JPG  00AQXY   0.000279   0.999688       0.000033\n",
       "2   ICLR/test/test/01OJZX.JPG  01OJZX   0.932408   0.055342       0.012250\n",
       "3  ICLR/test/test/07OXKK.jfif  07OXKK   0.002519   0.004996       0.992485\n",
       "4   ICLR/test/test/085IEC.jpg  085IEC   0.001179   0.000326       0.998496"
      ]
     },
     "execution_count": 86,
     "metadata": {
      "tags": []
     },
     "output_type": "execute_result"
    }
   ],
   "source": [
    "pseudo_df = test_df[(test_df.leaf_rust>0.75) | (test_df.stem_rust>0.75) | (test_df.healthy_wheat>0.75)]\n",
    "pseudo_df.head()"
   ]
  },
  {
   "cell_type": "code",
   "execution_count": 87,
   "metadata": {
    "colab": {
     "base_uri": "https://localhost:8080/",
     "height": 34
    },
    "colab_type": "code",
    "id": "LvrXjR7IDI-G",
    "outputId": "50cfd90d-e816-4175-b5f1-04a572d9f156"
   },
   "outputs": [
    {
     "data": {
      "text/plain": [
       "(511, 5)"
      ]
     },
     "execution_count": 87,
     "metadata": {
      "tags": []
     },
     "output_type": "execute_result"
    }
   ],
   "source": [
    "pseudo_df.shape"
   ]
  },
  {
   "cell_type": "code",
   "execution_count": 89,
   "metadata": {
    "colab": {
     "base_uri": "https://localhost:8080/",
     "height": 643
    },
    "colab_type": "code",
    "id": "4H-5zzAd7IQ5",
    "outputId": "40543dd4-3a02-40b6-84fc-ee57cc978381"
   },
   "outputs": [
    {
     "name": "stderr",
     "output_type": "stream",
     "text": [
      "/usr/local/lib/python3.6/dist-packages/ipykernel_launcher.py:1: SettingWithCopyWarning:\n",
      "\n",
      "\n",
      "A value is trying to be set on a copy of a slice from a DataFrame.\n",
      "Try using .loc[row_indexer,col_indexer] = value instead\n",
      "\n",
      "See the caveats in the documentation: http://pandas.pydata.org/pandas-docs/stable/user_guide/indexing.html#returning-a-view-versus-a-copy\n",
      "\n",
      "/usr/local/lib/python3.6/dist-packages/ipykernel_launcher.py:2: SettingWithCopyWarning:\n",
      "\n",
      "\n",
      "A value is trying to be set on a copy of a slice from a DataFrame.\n",
      "Try using .loc[row_indexer,col_indexer] = value instead\n",
      "\n",
      "See the caveats in the documentation: http://pandas.pydata.org/pandas-docs/stable/user_guide/indexing.html#returning-a-view-versus-a-copy\n",
      "\n",
      "/usr/local/lib/python3.6/dist-packages/ipykernel_launcher.py:3: SettingWithCopyWarning:\n",
      "\n",
      "\n",
      "A value is trying to be set on a copy of a slice from a DataFrame.\n",
      "Try using .loc[row_indexer,col_indexer] = value instead\n",
      "\n",
      "See the caveats in the documentation: http://pandas.pydata.org/pandas-docs/stable/user_guide/indexing.html#returning-a-view-versus-a-copy\n",
      "\n"
     ]
    },
    {
     "data": {
      "text/html": [
       "<div>\n",
       "<style scoped>\n",
       "    .dataframe tbody tr th:only-of-type {\n",
       "        vertical-align: middle;\n",
       "    }\n",
       "\n",
       "    .dataframe tbody tr th {\n",
       "        vertical-align: top;\n",
       "    }\n",
       "\n",
       "    .dataframe thead th {\n",
       "        text-align: right;\n",
       "    }\n",
       "</style>\n",
       "<table border=\"1\" class=\"dataframe\">\n",
       "  <thead>\n",
       "    <tr style=\"text-align: right;\">\n",
       "      <th></th>\n",
       "      <th>filepath</th>\n",
       "      <th>ID</th>\n",
       "      <th>leaf_rust</th>\n",
       "      <th>stem_rust</th>\n",
       "      <th>healthy_wheat</th>\n",
       "      <th>label</th>\n",
       "      <th>class</th>\n",
       "    </tr>\n",
       "  </thead>\n",
       "  <tbody>\n",
       "    <tr>\n",
       "      <th>0</th>\n",
       "      <td>ICLR/test/test/008FWT.JPG</td>\n",
       "      <td>008FWT</td>\n",
       "      <td>0.932408</td>\n",
       "      <td>0.055342</td>\n",
       "      <td>0.012250</td>\n",
       "      <td>1</td>\n",
       "      <td>leaf_rust</td>\n",
       "    </tr>\n",
       "    <tr>\n",
       "      <th>1</th>\n",
       "      <td>ICLR/test/test/00AQXY.JPG</td>\n",
       "      <td>00AQXY</td>\n",
       "      <td>0.000279</td>\n",
       "      <td>0.999688</td>\n",
       "      <td>0.000033</td>\n",
       "      <td>2</td>\n",
       "      <td>stem_rust</td>\n",
       "    </tr>\n",
       "    <tr>\n",
       "      <th>2</th>\n",
       "      <td>ICLR/test/test/01OJZX.JPG</td>\n",
       "      <td>01OJZX</td>\n",
       "      <td>0.932408</td>\n",
       "      <td>0.055342</td>\n",
       "      <td>0.012250</td>\n",
       "      <td>1</td>\n",
       "      <td>leaf_rust</td>\n",
       "    </tr>\n",
       "    <tr>\n",
       "      <th>3</th>\n",
       "      <td>ICLR/test/test/07OXKK.jfif</td>\n",
       "      <td>07OXKK</td>\n",
       "      <td>0.002519</td>\n",
       "      <td>0.004996</td>\n",
       "      <td>0.992485</td>\n",
       "      <td>0</td>\n",
       "      <td>healthy_wheat</td>\n",
       "    </tr>\n",
       "    <tr>\n",
       "      <th>4</th>\n",
       "      <td>ICLR/test/test/085IEC.jpg</td>\n",
       "      <td>085IEC</td>\n",
       "      <td>0.001179</td>\n",
       "      <td>0.000326</td>\n",
       "      <td>0.998496</td>\n",
       "      <td>0</td>\n",
       "      <td>healthy_wheat</td>\n",
       "    </tr>\n",
       "  </tbody>\n",
       "</table>\n",
       "</div>"
      ],
      "text/plain": [
       "                     filepath      ID  ...  label          class\n",
       "0   ICLR/test/test/008FWT.JPG  008FWT  ...      1      leaf_rust\n",
       "1   ICLR/test/test/00AQXY.JPG  00AQXY  ...      2      stem_rust\n",
       "2   ICLR/test/test/01OJZX.JPG  01OJZX  ...      1      leaf_rust\n",
       "3  ICLR/test/test/07OXKK.jfif  07OXKK  ...      0  healthy_wheat\n",
       "4   ICLR/test/test/085IEC.jpg  085IEC  ...      0  healthy_wheat\n",
       "\n",
       "[5 rows x 7 columns]"
      ]
     },
     "execution_count": 89,
     "metadata": {
      "tags": []
     },
     "output_type": "execute_result"
    }
   ],
   "source": [
    "pseudo_df['label'] = -1\n",
    "pseudo_df['class'] = pseudo_df[['leaf_rust', 'stem_rust', 'healthy_wheat']].idxmax(axis=1)\n",
    "pseudo_df['label'] = pseudo_df['class'].map(lambda x: tag_to_label[x])\n",
    "pseudo_df.head()"
   ]
  },
  {
   "cell_type": "code",
   "execution_count": 90,
   "metadata": {
    "colab": {
     "base_uri": "https://localhost:8080/",
     "height": 206
    },
    "colab_type": "code",
    "id": "tAmoI-aOagvQ",
    "outputId": "ec3f9b91-68af-4251-b692-4968ec40c029"
   },
   "outputs": [
    {
     "data": {
      "text/html": [
       "<div>\n",
       "<style scoped>\n",
       "    .dataframe tbody tr th:only-of-type {\n",
       "        vertical-align: middle;\n",
       "    }\n",
       "\n",
       "    .dataframe tbody tr th {\n",
       "        vertical-align: top;\n",
       "    }\n",
       "\n",
       "    .dataframe thead th {\n",
       "        text-align: right;\n",
       "    }\n",
       "</style>\n",
       "<table border=\"1\" class=\"dataframe\">\n",
       "  <thead>\n",
       "    <tr style=\"text-align: right;\">\n",
       "      <th></th>\n",
       "      <th>class</th>\n",
       "      <th>filepath</th>\n",
       "      <th>label</th>\n",
       "    </tr>\n",
       "  </thead>\n",
       "  <tbody>\n",
       "    <tr>\n",
       "      <th>0</th>\n",
       "      <td>leaf_rust</td>\n",
       "      <td>ICLR/test/test/008FWT.JPG</td>\n",
       "      <td>1</td>\n",
       "    </tr>\n",
       "    <tr>\n",
       "      <th>1</th>\n",
       "      <td>stem_rust</td>\n",
       "      <td>ICLR/test/test/00AQXY.JPG</td>\n",
       "      <td>2</td>\n",
       "    </tr>\n",
       "    <tr>\n",
       "      <th>2</th>\n",
       "      <td>leaf_rust</td>\n",
       "      <td>ICLR/test/test/01OJZX.JPG</td>\n",
       "      <td>1</td>\n",
       "    </tr>\n",
       "    <tr>\n",
       "      <th>3</th>\n",
       "      <td>healthy_wheat</td>\n",
       "      <td>ICLR/test/test/07OXKK.jfif</td>\n",
       "      <td>0</td>\n",
       "    </tr>\n",
       "    <tr>\n",
       "      <th>4</th>\n",
       "      <td>healthy_wheat</td>\n",
       "      <td>ICLR/test/test/085IEC.jpg</td>\n",
       "      <td>0</td>\n",
       "    </tr>\n",
       "  </tbody>\n",
       "</table>\n",
       "</div>"
      ],
      "text/plain": [
       "           class                    filepath  label\n",
       "0      leaf_rust   ICLR/test/test/008FWT.JPG      1\n",
       "1      stem_rust   ICLR/test/test/00AQXY.JPG      2\n",
       "2      leaf_rust   ICLR/test/test/01OJZX.JPG      1\n",
       "3  healthy_wheat  ICLR/test/test/07OXKK.jfif      0\n",
       "4  healthy_wheat   ICLR/test/test/085IEC.jpg      0"
      ]
     },
     "execution_count": 90,
     "metadata": {
      "tags": []
     },
     "output_type": "execute_result"
    }
   ],
   "source": [
    "pseudo_df = pseudo_df[['class', 'filepath', 'label']]\n",
    "pseudo_df.head()"
   ]
  },
  {
   "cell_type": "code",
   "execution_count": 0,
   "metadata": {
    "colab": {},
    "colab_type": "code",
    "id": "y9FKoWw1PaF-"
   },
   "outputs": [],
   "source": [
    "pseudo_df.to_csv('pseudo_labels.csv', index=False)"
   ]
  },
  {
   "cell_type": "code",
   "execution_count": 0,
   "metadata": {
    "colab": {},
    "colab_type": "code",
    "id": "Yg9PnopxNIJj"
   },
   "outputs": [],
   "source": []
  }
 ],
 "metadata": {
  "accelerator": "GPU",
  "colab": {
   "name": "wheat_rust_inference.ipynb",
   "provenance": [],
   "toc_visible": true
  },
  "kernelspec": {
   "display_name": "Python 3",
   "language": "python",
   "name": "python3"
  },
  "language_info": {
   "codemirror_mode": {
    "name": "ipython",
    "version": 3
   },
   "file_extension": ".py",
   "mimetype": "text/x-python",
   "name": "python",
   "nbconvert_exporter": "python",
   "pygments_lexer": "ipython3",
   "version": "3.6.8"
  }
 },
 "nbformat": 4,
 "nbformat_minor": 1
}
