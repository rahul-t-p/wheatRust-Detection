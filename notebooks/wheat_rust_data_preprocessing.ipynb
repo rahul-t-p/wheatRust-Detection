{
 "cells": [
  {
   "cell_type": "markdown",
   "metadata": {
    "colab_type": "text",
    "id": "VLtoFUnjxWOz"
   },
   "source": [
    "# Training Data"
   ]
  },
  {
   "cell_type": "code",
   "execution_count": 0,
   "metadata": {
    "colab": {},
    "colab_type": "code",
    "id": "jnii1CgdvdWn"
   },
   "outputs": [],
   "source": [
    "import catalyst\n",
    "from pathlib import Path\n",
    "from catalyst.dl import utils\n",
    "\n",
    "SEED = 42\n",
    "utils.set_global_seed(SEED)"
   ]
  },
  {
   "cell_type": "code",
   "execution_count": 0,
   "metadata": {
    "colab": {},
    "colab_type": "code",
    "id": "cQgGXoZNvy1Y"
   },
   "outputs": [],
   "source": [
    "ROOT = \"ICLR/\""
   ]
  },
  {
   "cell_type": "code",
   "execution_count": 28,
   "metadata": {
    "colab": {
     "base_uri": "https://localhost:8080/",
     "height": 206
    },
    "colab_type": "code",
    "id": "PBQfuMV0v4vt",
    "outputId": "99f3b234-8c17-4475-ff90-92034a87d020"
   },
   "outputs": [
    {
     "data": {
      "text/html": [
       "<div>\n",
       "<style scoped>\n",
       "    .dataframe tbody tr th:only-of-type {\n",
       "        vertical-align: middle;\n",
       "    }\n",
       "\n",
       "    .dataframe tbody tr th {\n",
       "        vertical-align: top;\n",
       "    }\n",
       "\n",
       "    .dataframe thead th {\n",
       "        text-align: right;\n",
       "    }\n",
       "</style>\n",
       "<table border=\"1\" class=\"dataframe\">\n",
       "  <thead>\n",
       "    <tr style=\"text-align: right;\">\n",
       "      <th></th>\n",
       "      <th>class</th>\n",
       "      <th>filepath</th>\n",
       "      <th>label</th>\n",
       "    </tr>\n",
       "  </thead>\n",
       "  <tbody>\n",
       "    <tr>\n",
       "      <th>0</th>\n",
       "      <td>healthy_wheat</td>\n",
       "      <td>ICLR/train/train/healthy_wheat/03TD19.jfif</td>\n",
       "      <td>0</td>\n",
       "    </tr>\n",
       "    <tr>\n",
       "      <th>1</th>\n",
       "      <td>healthy_wheat</td>\n",
       "      <td>ICLR/train/train/healthy_wheat/0LBIWV.jpg</td>\n",
       "      <td>0</td>\n",
       "    </tr>\n",
       "    <tr>\n",
       "      <th>2</th>\n",
       "      <td>healthy_wheat</td>\n",
       "      <td>ICLR/train/train/healthy_wheat/0O5BON.jfif</td>\n",
       "      <td>0</td>\n",
       "    </tr>\n",
       "    <tr>\n",
       "      <th>3</th>\n",
       "      <td>healthy_wheat</td>\n",
       "      <td>ICLR/train/train/healthy_wheat/0PFX47.jpg</td>\n",
       "      <td>0</td>\n",
       "    </tr>\n",
       "    <tr>\n",
       "      <th>4</th>\n",
       "      <td>healthy_wheat</td>\n",
       "      <td>ICLR/train/train/healthy_wheat/1LNMUQ.jfif</td>\n",
       "      <td>0</td>\n",
       "    </tr>\n",
       "  </tbody>\n",
       "</table>\n",
       "</div>"
      ],
      "text/plain": [
       "           class                                    filepath  label\n",
       "0  healthy_wheat  ICLR/train/train/healthy_wheat/03TD19.jfif      0\n",
       "1  healthy_wheat   ICLR/train/train/healthy_wheat/0LBIWV.jpg      0\n",
       "2  healthy_wheat  ICLR/train/train/healthy_wheat/0O5BON.jfif      0\n",
       "3  healthy_wheat   ICLR/train/train/healthy_wheat/0PFX47.jpg      0\n",
       "4  healthy_wheat  ICLR/train/train/healthy_wheat/1LNMUQ.jfif      0"
      ]
     },
     "execution_count": 28,
     "metadata": {
      "tags": []
     },
     "output_type": "execute_result"
    }
   ],
   "source": [
    "from catalyst.utils import (\n",
    "    create_dataset, create_dataframe, get_dataset_labeling, map_dataframe\n",
    ")\n",
    "dataset = create_dataset(dirs=f\"{ROOT}train/train/*\", extension=\"*\")\n",
    "df = create_dataframe(dataset, columns=[\"class\", \"filepath\"])\n",
    "\n",
    "tag_to_label = get_dataset_labeling(df, \"class\")\n",
    "class_names = [\n",
    "    name for name, id_ in sorted(tag_to_label.items(), key=lambda x: x[1])\n",
    "]\n",
    "\n",
    "df_with_labels = map_dataframe(\n",
    "    df, \n",
    "    tag_column=\"class\", \n",
    "    class_column=\"label\", \n",
    "    tag2class=tag_to_label, \n",
    "    verbose=False\n",
    ")\n",
    "df_with_labels.head()"
   ]
  },
  {
   "cell_type": "code",
   "execution_count": 29,
   "metadata": {
    "colab": {
     "base_uri": "https://localhost:8080/",
     "height": 34
    },
    "colab_type": "code",
    "id": "3EKp-8G8v-yd",
    "outputId": "126b0433-d4bd-4dc8-bf7e-95fa484ffb85"
   },
   "outputs": [
    {
     "data": {
      "text/plain": [
       "(875, 3)"
      ]
     },
     "execution_count": 29,
     "metadata": {
      "tags": []
     },
     "output_type": "execute_result"
    }
   ],
   "source": [
    "df_with_labels.shape"
   ]
  },
  {
   "cell_type": "code",
   "execution_count": 30,
   "metadata": {
    "colab": {
     "base_uri": "https://localhost:8080/",
     "height": 224
    },
    "colab_type": "code",
    "id": "OsGypnhywDKY",
    "outputId": "0b3aec7e-feaf-4f80-8dfc-17b97bae7f9b"
   },
   "outputs": [
    {
     "name": "stdout",
     "output_type": "stream",
     "text": [
      "(1128, 3)\n"
     ]
    },
    {
     "data": {
      "text/html": [
       "<div>\n",
       "<style scoped>\n",
       "    .dataframe tbody tr th:only-of-type {\n",
       "        vertical-align: middle;\n",
       "    }\n",
       "\n",
       "    .dataframe tbody tr th {\n",
       "        vertical-align: top;\n",
       "    }\n",
       "\n",
       "    .dataframe thead th {\n",
       "        text-align: right;\n",
       "    }\n",
       "</style>\n",
       "<table border=\"1\" class=\"dataframe\">\n",
       "  <thead>\n",
       "    <tr style=\"text-align: right;\">\n",
       "      <th></th>\n",
       "      <th>class</th>\n",
       "      <th>filepath</th>\n",
       "      <th>label</th>\n",
       "    </tr>\n",
       "  </thead>\n",
       "  <tbody>\n",
       "    <tr>\n",
       "      <th>0</th>\n",
       "      <td>healthy_wheat</td>\n",
       "      <td>ICLR/train/train/healthy_wheat/03TD19.jfif</td>\n",
       "      <td>0</td>\n",
       "    </tr>\n",
       "    <tr>\n",
       "      <th>1</th>\n",
       "      <td>healthy_wheat</td>\n",
       "      <td>ICLR/train/train/healthy_wheat/0LBIWV.jpg</td>\n",
       "      <td>0</td>\n",
       "    </tr>\n",
       "    <tr>\n",
       "      <th>2</th>\n",
       "      <td>healthy_wheat</td>\n",
       "      <td>ICLR/train/train/healthy_wheat/0O5BON.jfif</td>\n",
       "      <td>0</td>\n",
       "    </tr>\n",
       "    <tr>\n",
       "      <th>3</th>\n",
       "      <td>healthy_wheat</td>\n",
       "      <td>ICLR/train/train/healthy_wheat/0PFX47.jpg</td>\n",
       "      <td>0</td>\n",
       "    </tr>\n",
       "    <tr>\n",
       "      <th>4</th>\n",
       "      <td>healthy_wheat</td>\n",
       "      <td>ICLR/train/train/healthy_wheat/1LNMUQ.jfif</td>\n",
       "      <td>0</td>\n",
       "    </tr>\n",
       "  </tbody>\n",
       "</table>\n",
       "</div>"
      ],
      "text/plain": [
       "           class                                    filepath  label\n",
       "0  healthy_wheat  ICLR/train/train/healthy_wheat/03TD19.jfif      0\n",
       "1  healthy_wheat   ICLR/train/train/healthy_wheat/0LBIWV.jpg      0\n",
       "2  healthy_wheat  ICLR/train/train/healthy_wheat/0O5BON.jfif      0\n",
       "3  healthy_wheat   ICLR/train/train/healthy_wheat/0PFX47.jpg      0\n",
       "4  healthy_wheat  ICLR/train/train/healthy_wheat/1LNMUQ.jfif      0"
      ]
     },
     "execution_count": 30,
     "metadata": {
      "tags": []
     },
     "output_type": "execute_result"
    }
   ],
   "source": [
    "df_with_labels = catalyst.utils.pandas.balance_classes(df_with_labels, class_column='label',\n",
    "                                                    random_state=SEED, how='upsampling')\n",
    "print(df_with_labels.shape)\n",
    "df_with_labels.head()"
   ]
  },
  {
   "cell_type": "code",
   "execution_count": 31,
   "metadata": {
    "colab": {
     "base_uri": "https://localhost:8080/",
     "height": 206
    },
    "colab_type": "code",
    "id": "VQ_mTcWbwGey",
    "outputId": "ff726ea0-09af-4f30-91e4-594de13d17fd"
   },
   "outputs": [
    {
     "data": {
      "text/html": [
       "<div>\n",
       "<style scoped>\n",
       "    .dataframe tbody tr th:only-of-type {\n",
       "        vertical-align: middle;\n",
       "    }\n",
       "\n",
       "    .dataframe tbody tr th {\n",
       "        vertical-align: top;\n",
       "    }\n",
       "\n",
       "    .dataframe thead th {\n",
       "        text-align: right;\n",
       "    }\n",
       "</style>\n",
       "<table border=\"1\" class=\"dataframe\">\n",
       "  <thead>\n",
       "    <tr style=\"text-align: right;\">\n",
       "      <th></th>\n",
       "      <th>class</th>\n",
       "      <th>filepath</th>\n",
       "      <th>label</th>\n",
       "      <th>kfold</th>\n",
       "    </tr>\n",
       "  </thead>\n",
       "  <tbody>\n",
       "    <tr>\n",
       "      <th>0</th>\n",
       "      <td>healthy_wheat</td>\n",
       "      <td>ICLR/train/train/healthy_wheat/03TD19.jfif</td>\n",
       "      <td>0</td>\n",
       "      <td>-1</td>\n",
       "    </tr>\n",
       "    <tr>\n",
       "      <th>1</th>\n",
       "      <td>healthy_wheat</td>\n",
       "      <td>ICLR/train/train/healthy_wheat/0LBIWV.jpg</td>\n",
       "      <td>0</td>\n",
       "      <td>-1</td>\n",
       "    </tr>\n",
       "    <tr>\n",
       "      <th>2</th>\n",
       "      <td>healthy_wheat</td>\n",
       "      <td>ICLR/train/train/healthy_wheat/0O5BON.jfif</td>\n",
       "      <td>0</td>\n",
       "      <td>-1</td>\n",
       "    </tr>\n",
       "    <tr>\n",
       "      <th>3</th>\n",
       "      <td>healthy_wheat</td>\n",
       "      <td>ICLR/train/train/healthy_wheat/0PFX47.jpg</td>\n",
       "      <td>0</td>\n",
       "      <td>-1</td>\n",
       "    </tr>\n",
       "    <tr>\n",
       "      <th>4</th>\n",
       "      <td>healthy_wheat</td>\n",
       "      <td>ICLR/train/train/healthy_wheat/1LNMUQ.jfif</td>\n",
       "      <td>0</td>\n",
       "      <td>-1</td>\n",
       "    </tr>\n",
       "  </tbody>\n",
       "</table>\n",
       "</div>"
      ],
      "text/plain": [
       "           class                                    filepath  label  kfold\n",
       "0  healthy_wheat  ICLR/train/train/healthy_wheat/03TD19.jfif      0     -1\n",
       "1  healthy_wheat   ICLR/train/train/healthy_wheat/0LBIWV.jpg      0     -1\n",
       "2  healthy_wheat  ICLR/train/train/healthy_wheat/0O5BON.jfif      0     -1\n",
       "3  healthy_wheat   ICLR/train/train/healthy_wheat/0PFX47.jpg      0     -1\n",
       "4  healthy_wheat  ICLR/train/train/healthy_wheat/1LNMUQ.jfif      0     -1"
      ]
     },
     "execution_count": 31,
     "metadata": {
      "tags": []
     },
     "output_type": "execute_result"
    }
   ],
   "source": [
    "df_with_labels.loc[:,'kfold'] = -1\n",
    "df_with_labels.head()"
   ]
  },
  {
   "cell_type": "code",
   "execution_count": 32,
   "metadata": {
    "colab": {
     "base_uri": "https://localhost:8080/",
     "height": 206
    },
    "colab_type": "code",
    "id": "0jDAnzKnwSgl",
    "outputId": "a2b77e9d-9beb-48a7-a948-4354e9ebe0a1"
   },
   "outputs": [
    {
     "data": {
      "text/html": [
       "<div>\n",
       "<style scoped>\n",
       "    .dataframe tbody tr th:only-of-type {\n",
       "        vertical-align: middle;\n",
       "    }\n",
       "\n",
       "    .dataframe tbody tr th {\n",
       "        vertical-align: top;\n",
       "    }\n",
       "\n",
       "    .dataframe thead th {\n",
       "        text-align: right;\n",
       "    }\n",
       "</style>\n",
       "<table border=\"1\" class=\"dataframe\">\n",
       "  <thead>\n",
       "    <tr style=\"text-align: right;\">\n",
       "      <th></th>\n",
       "      <th>class</th>\n",
       "      <th>filepath</th>\n",
       "      <th>label</th>\n",
       "      <th>kfold</th>\n",
       "    </tr>\n",
       "  </thead>\n",
       "  <tbody>\n",
       "    <tr>\n",
       "      <th>0</th>\n",
       "      <td>stem_rust</td>\n",
       "      <td>ICLR/train/train/stem_rust/1CQ95E.JPG</td>\n",
       "      <td>2</td>\n",
       "      <td>-1</td>\n",
       "    </tr>\n",
       "    <tr>\n",
       "      <th>1</th>\n",
       "      <td>stem_rust</td>\n",
       "      <td>ICLR/train/train/stem_rust/7QBIPY.jpg</td>\n",
       "      <td>2</td>\n",
       "      <td>-1</td>\n",
       "    </tr>\n",
       "    <tr>\n",
       "      <th>2</th>\n",
       "      <td>leaf_rust</td>\n",
       "      <td>ICLR/train/train/leaf_rust/1Z2P44.jpg</td>\n",
       "      <td>1</td>\n",
       "      <td>-1</td>\n",
       "    </tr>\n",
       "    <tr>\n",
       "      <th>3</th>\n",
       "      <td>healthy_wheat</td>\n",
       "      <td>ICLR/train/train/healthy_wheat/ZB9CAK.jpg</td>\n",
       "      <td>0</td>\n",
       "      <td>-1</td>\n",
       "    </tr>\n",
       "    <tr>\n",
       "      <th>4</th>\n",
       "      <td>stem_rust</td>\n",
       "      <td>ICLR/train/train/stem_rust/4PS17R.jpg</td>\n",
       "      <td>2</td>\n",
       "      <td>-1</td>\n",
       "    </tr>\n",
       "  </tbody>\n",
       "</table>\n",
       "</div>"
      ],
      "text/plain": [
       "           class                                   filepath  label  kfold\n",
       "0      stem_rust      ICLR/train/train/stem_rust/1CQ95E.JPG      2     -1\n",
       "1      stem_rust      ICLR/train/train/stem_rust/7QBIPY.jpg      2     -1\n",
       "2      leaf_rust      ICLR/train/train/leaf_rust/1Z2P44.jpg      1     -1\n",
       "3  healthy_wheat  ICLR/train/train/healthy_wheat/ZB9CAK.jpg      0     -1\n",
       "4      stem_rust      ICLR/train/train/stem_rust/4PS17R.jpg      2     -1"
      ]
     },
     "execution_count": 32,
     "metadata": {
      "tags": []
     },
     "output_type": "execute_result"
    }
   ],
   "source": [
    "df_with_labels = df_with_labels.sample(frac=1).reset_index(drop=True)\n",
    "df_with_labels.head()"
   ]
  },
  {
   "cell_type": "code",
   "execution_count": 0,
   "metadata": {
    "colab": {},
    "colab_type": "code",
    "id": "rBDJf3ldwVUj"
   },
   "outputs": [],
   "source": [
    "from sklearn.model_selection import StratifiedKFold\n",
    "import numpy as np\n",
    "\n",
    "X = df_with_labels.filepath.values\n",
    "y = df_with_labels.label.values\n",
    "\n",
    "skf = StratifiedKFold(n_splits=5)\n",
    "\n",
    "for fold, (train_index, val_index) in enumerate(skf.split(X, y)):\n",
    "    #print(\"TRAIN:\", train_index, \"TEST:\", val_index)\n",
    "    df_with_labels.loc[val_index, 'kfold'] = fold"
   ]
  },
  {
   "cell_type": "code",
   "execution_count": 34,
   "metadata": {
    "colab": {
     "base_uri": "https://localhost:8080/",
     "height": 121
    },
    "colab_type": "code",
    "id": "DKx2VLxfwYlp",
    "outputId": "ed136c39-3f61-4ed3-cfe2-ce7a60e44475"
   },
   "outputs": [
    {
     "data": {
      "text/plain": [
       "2    226\n",
       "1    226\n",
       "0    226\n",
       "4    225\n",
       "3    225\n",
       "Name: kfold, dtype: int64"
      ]
     },
     "execution_count": 34,
     "metadata": {
      "tags": []
     },
     "output_type": "execute_result"
    }
   ],
   "source": [
    "df_with_labels.kfold.value_counts()"
   ]
  },
  {
   "cell_type": "code",
   "execution_count": 35,
   "metadata": {
    "colab": {
     "base_uri": "https://localhost:8080/",
     "height": 206
    },
    "colab_type": "code",
    "id": "KE5OrG98wcA3",
    "outputId": "1d0ddc25-3d10-424a-e3a0-abeba06fde26"
   },
   "outputs": [
    {
     "data": {
      "text/html": [
       "<div>\n",
       "<style scoped>\n",
       "    .dataframe tbody tr th:only-of-type {\n",
       "        vertical-align: middle;\n",
       "    }\n",
       "\n",
       "    .dataframe tbody tr th {\n",
       "        vertical-align: top;\n",
       "    }\n",
       "\n",
       "    .dataframe thead th {\n",
       "        text-align: right;\n",
       "    }\n",
       "</style>\n",
       "<table border=\"1\" class=\"dataframe\">\n",
       "  <thead>\n",
       "    <tr style=\"text-align: right;\">\n",
       "      <th></th>\n",
       "      <th>class</th>\n",
       "      <th>filepath</th>\n",
       "      <th>label</th>\n",
       "      <th>kfold</th>\n",
       "    </tr>\n",
       "  </thead>\n",
       "  <tbody>\n",
       "    <tr>\n",
       "      <th>0</th>\n",
       "      <td>stem_rust</td>\n",
       "      <td>ICLR/train/train/stem_rust/1CQ95E.JPG</td>\n",
       "      <td>2</td>\n",
       "      <td>0</td>\n",
       "    </tr>\n",
       "    <tr>\n",
       "      <th>1</th>\n",
       "      <td>stem_rust</td>\n",
       "      <td>ICLR/train/train/stem_rust/7QBIPY.jpg</td>\n",
       "      <td>2</td>\n",
       "      <td>0</td>\n",
       "    </tr>\n",
       "    <tr>\n",
       "      <th>2</th>\n",
       "      <td>leaf_rust</td>\n",
       "      <td>ICLR/train/train/leaf_rust/1Z2P44.jpg</td>\n",
       "      <td>1</td>\n",
       "      <td>0</td>\n",
       "    </tr>\n",
       "    <tr>\n",
       "      <th>3</th>\n",
       "      <td>healthy_wheat</td>\n",
       "      <td>ICLR/train/train/healthy_wheat/ZB9CAK.jpg</td>\n",
       "      <td>0</td>\n",
       "      <td>0</td>\n",
       "    </tr>\n",
       "    <tr>\n",
       "      <th>4</th>\n",
       "      <td>stem_rust</td>\n",
       "      <td>ICLR/train/train/stem_rust/4PS17R.jpg</td>\n",
       "      <td>2</td>\n",
       "      <td>0</td>\n",
       "    </tr>\n",
       "  </tbody>\n",
       "</table>\n",
       "</div>"
      ],
      "text/plain": [
       "           class                                   filepath  label  kfold\n",
       "0      stem_rust      ICLR/train/train/stem_rust/1CQ95E.JPG      2      0\n",
       "1      stem_rust      ICLR/train/train/stem_rust/7QBIPY.jpg      2      0\n",
       "2      leaf_rust      ICLR/train/train/leaf_rust/1Z2P44.jpg      1      0\n",
       "3  healthy_wheat  ICLR/train/train/healthy_wheat/ZB9CAK.jpg      0      0\n",
       "4      stem_rust      ICLR/train/train/stem_rust/4PS17R.jpg      2      0"
      ]
     },
     "execution_count": 35,
     "metadata": {
      "tags": []
     },
     "output_type": "execute_result"
    }
   ],
   "source": [
    "df_with_labels.head()"
   ]
  },
  {
   "cell_type": "code",
   "execution_count": 36,
   "metadata": {
    "colab": {
     "base_uri": "https://localhost:8080/",
     "height": 34
    },
    "colab_type": "code",
    "id": "uyootN23wige",
    "outputId": "f2103ad1-2584-40da-dc56-d61e1774ba46"
   },
   "outputs": [
    {
     "data": {
      "text/plain": [
       "(1128, 4)"
      ]
     },
     "execution_count": 36,
     "metadata": {
      "tags": []
     },
     "output_type": "execute_result"
    }
   ],
   "source": [
    "df_with_labels.shape"
   ]
  },
  {
   "cell_type": "code",
   "execution_count": 0,
   "metadata": {
    "colab": {},
    "colab_type": "code",
    "id": "1kGOyDmXwkjL"
   },
   "outputs": [],
   "source": [
    "df_with_labels.to_csv('train.csv', index=False)"
   ]
  },
  {
   "cell_type": "code",
   "execution_count": 0,
   "metadata": {
    "colab": {},
    "colab_type": "code",
    "id": "9t9XRWTKwrMl"
   },
   "outputs": [],
   "source": []
  },
  {
   "cell_type": "markdown",
   "metadata": {
    "colab_type": "text",
    "id": "1l0nHvIh56qf"
   },
   "source": [
    "# Test Data"
   ]
  },
  {
   "cell_type": "code",
   "execution_count": 38,
   "metadata": {
    "colab": {
     "base_uri": "https://localhost:8080/",
     "height": 206
    },
    "colab_type": "code",
    "id": "4P2cTwO158bZ",
    "outputId": "d7499c6a-e22d-439e-8051-8bed772ab360"
   },
   "outputs": [
    {
     "data": {
      "text/html": [
       "<div>\n",
       "<style scoped>\n",
       "    .dataframe tbody tr th:only-of-type {\n",
       "        vertical-align: middle;\n",
       "    }\n",
       "\n",
       "    .dataframe tbody tr th {\n",
       "        vertical-align: top;\n",
       "    }\n",
       "\n",
       "    .dataframe thead th {\n",
       "        text-align: right;\n",
       "    }\n",
       "</style>\n",
       "<table border=\"1\" class=\"dataframe\">\n",
       "  <thead>\n",
       "    <tr style=\"text-align: right;\">\n",
       "      <th></th>\n",
       "      <th>filepath</th>\n",
       "    </tr>\n",
       "  </thead>\n",
       "  <tbody>\n",
       "    <tr>\n",
       "      <th>0</th>\n",
       "      <td>ICLR/test/test/008FWT.JPG</td>\n",
       "    </tr>\n",
       "    <tr>\n",
       "      <th>1</th>\n",
       "      <td>ICLR/test/test/00AQXY.JPG</td>\n",
       "    </tr>\n",
       "    <tr>\n",
       "      <th>2</th>\n",
       "      <td>ICLR/test/test/01OJZX.JPG</td>\n",
       "    </tr>\n",
       "    <tr>\n",
       "      <th>3</th>\n",
       "      <td>ICLR/test/test/07OXKK.jfif</td>\n",
       "    </tr>\n",
       "    <tr>\n",
       "      <th>4</th>\n",
       "      <td>ICLR/test/test/085IEC.jpg</td>\n",
       "    </tr>\n",
       "  </tbody>\n",
       "</table>\n",
       "</div>"
      ],
      "text/plain": [
       "                     filepath\n",
       "0   ICLR/test/test/008FWT.JPG\n",
       "1   ICLR/test/test/00AQXY.JPG\n",
       "2   ICLR/test/test/01OJZX.JPG\n",
       "3  ICLR/test/test/07OXKK.jfif\n",
       "4   ICLR/test/test/085IEC.jpg"
      ]
     },
     "execution_count": 38,
     "metadata": {
      "tags": []
     },
     "output_type": "execute_result"
    }
   ],
   "source": [
    "from catalyst.utils import (\n",
    "    create_dataset, create_dataframe, get_dataset_labeling, map_dataframe\n",
    ")\n",
    "test_dataset = create_dataset(dirs=f\"{ROOT}test/test/\", extension=\"*\")\n",
    "test_df = create_dataframe(test_dataset, columns=[\"class\", \"filepath\"])\n",
    "\n",
    "test_df = test_df.drop('class', 1)\n",
    "test_df.head()"
   ]
  },
  {
   "cell_type": "code",
   "execution_count": 0,
   "metadata": {
    "colab": {},
    "colab_type": "code",
    "id": "se3GlTW46T8F"
   },
   "outputs": [],
   "source": [
    "test_df.to_csv('test.csv', index=False)"
   ]
  },
  {
   "cell_type": "code",
   "execution_count": 0,
   "metadata": {
    "colab": {},
    "colab_type": "code",
    "id": "-M6nHMyo6amt"
   },
   "outputs": [],
   "source": []
  }
 ],
 "metadata": {
  "colab": {
   "name": "wheat_rust_data_preprocessing.ipynb",
   "provenance": [],
   "toc_visible": true
  },
  "kernelspec": {
   "display_name": "Python 3",
   "language": "python",
   "name": "python3"
  },
  "language_info": {
   "codemirror_mode": {
    "name": "ipython",
    "version": 3
   },
   "file_extension": ".py",
   "mimetype": "text/x-python",
   "name": "python",
   "nbconvert_exporter": "python",
   "pygments_lexer": "ipython3",
   "version": "3.9.5"
  }
 },
 "nbformat": 4,
 "nbformat_minor": 1
}
