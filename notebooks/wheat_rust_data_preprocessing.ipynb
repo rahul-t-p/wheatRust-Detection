{
  "nbformat": 4,
  "nbformat_minor": 0,
  "metadata": {
    "colab": {
      "name": "wheat_rust_data_preprocessing.ipynb",
      "provenance": [],
      "toc_visible": true
    },
    "kernelspec": {
      "name": "python3",
      "display_name": "Python 3"
    }
  },
  "cells": [
    {
      "cell_type": "markdown",
      "metadata": {
        "id": "aXtI-TuIxJ2s",
        "colab_type": "text"
      },
      "source": [
        "# Setup Workspace"
      ]
    },
    {
      "cell_type": "code",
      "metadata": {
        "id": "pavGfDlzujrF",
        "colab_type": "code",
        "colab": {
          "base_uri": "https://localhost:8080/",
          "height": 124
        },
        "outputId": "7ed88074-905c-41e9-b2f4-8f7135f28236"
      },
      "source": [
        "from google.colab import drive\n",
        "drive.mount('/content/drive')"
      ],
      "execution_count": 1,
      "outputs": [
        {
          "output_type": "stream",
          "text": [
            "Go to this URL in a browser: https://accounts.google.com/o/oauth2/auth?client_id=947318989803-6bn6qk8qdgf4n4g3pfee6491hc0brc4i.apps.googleusercontent.com&redirect_uri=urn%3aietf%3awg%3aoauth%3a2.0%3aoob&response_type=code&scope=email%20https%3a%2f%2fwww.googleapis.com%2fauth%2fdocs.test%20https%3a%2f%2fwww.googleapis.com%2fauth%2fdrive%20https%3a%2f%2fwww.googleapis.com%2fauth%2fdrive.photos.readonly%20https%3a%2f%2fwww.googleapis.com%2fauth%2fpeopleapi.readonly\n",
            "\n",
            "Enter your authorization code:\n",
            "··········\n",
            "Mounted at /content/drive\n"
          ],
          "name": "stdout"
        }
      ]
    },
    {
      "cell_type": "code",
      "metadata": {
        "id": "SSHHcQufulW-",
        "colab_type": "code",
        "colab": {
          "base_uri": "https://localhost:8080/",
          "height": 34
        },
        "outputId": "14e6a7bf-e4cf-45bd-c055-43521a88c22f"
      },
      "source": [
        "cd drive/My Drive/Colab Notebooks"
      ],
      "execution_count": 2,
      "outputs": [
        {
          "output_type": "stream",
          "text": [
            "/content/drive/My Drive/Colab Notebooks\n"
          ],
          "name": "stdout"
        }
      ]
    },
    {
      "cell_type": "code",
      "metadata": {
        "id": "BJFFClqDvC5E",
        "colab_type": "code",
        "colab": {}
      },
      "source": [
        " !pip install -q kaggle"
      ],
      "execution_count": 0,
      "outputs": []
    },
    {
      "cell_type": "code",
      "metadata": {
        "id": "POmVbg9GvFd_",
        "colab_type": "code",
        "colab": {}
      },
      "source": [
        " !mkdir -p ~/.kaggle\n",
        " !cp kaggle.json ~/.kaggle/"
      ],
      "execution_count": 0,
      "outputs": []
    },
    {
      "cell_type": "code",
      "metadata": {
        "id": "n04t4yfNvHsZ",
        "colab_type": "code",
        "colab": {}
      },
      "source": [
        "!chmod 600 ~/.kaggle/kaggle.json"
      ],
      "execution_count": 0,
      "outputs": []
    },
    {
      "cell_type": "code",
      "metadata": {
        "id": "gGK_SNY9vKHL",
        "colab_type": "code",
        "colab": {
          "base_uri": "https://localhost:8080/",
          "height": 34
        },
        "outputId": "1ff317ae-86b1-45c5-d496-d1e78839d3fc"
      },
      "source": [
        "cd /content/"
      ],
      "execution_count": 6,
      "outputs": [
        {
          "output_type": "stream",
          "text": [
            "/content\n"
          ],
          "name": "stdout"
        }
      ]
    },
    {
      "cell_type": "code",
      "metadata": {
        "id": "q7-_NvPLvMQV",
        "colab_type": "code",
        "colab": {
          "base_uri": "https://localhost:8080/",
          "height": 69
        },
        "outputId": "f6c6bf4d-eeb1-4015-dd10-bdf2ec5d18ef"
      },
      "source": [
        "!kaggle datasets download -d hakymulla/cgiar-computer-vision-for-crop-disease"
      ],
      "execution_count": 7,
      "outputs": [
        {
          "output_type": "stream",
          "text": [
            "Downloading cgiar-computer-vision-for-crop-disease.zip to /content\n",
            "100% 2.98G/3.00G [00:34<00:00, 75.0MB/s]\n",
            "100% 3.00G/3.00G [00:34<00:00, 93.2MB/s]\n"
          ],
          "name": "stdout"
        }
      ]
    },
    {
      "cell_type": "code",
      "metadata": {
        "id": "mWTP1toQvO9_",
        "colab_type": "code",
        "colab": {}
      },
      "source": [
        "%%capture\n",
        "!unzip cgiar-computer-vision-for-crop-disease.zip\n",
        "!rm cgiar-computer-vision-for-crop-disease.zip"
      ],
      "execution_count": 0,
      "outputs": []
    },
    {
      "cell_type": "code",
      "metadata": {
        "id": "fS9ILyEKvSz1",
        "colab_type": "code",
        "colab": {}
      },
      "source": [
        "%%capture\n",
        "!pip install -U catalyst"
      ],
      "execution_count": 0,
      "outputs": []
    },
    {
      "cell_type": "code",
      "metadata": {
        "id": "mB3fwe2HvW_l",
        "colab_type": "code",
        "colab": {}
      },
      "source": [
        "# a gif image is causing some problem while training so let's get rid of that\n",
        "!rm ICLR/train/train/leaf_rust/*.gif"
      ],
      "execution_count": 0,
      "outputs": []
    },
    {
      "cell_type": "markdown",
      "metadata": {
        "id": "VLtoFUnjxWOz",
        "colab_type": "text"
      },
      "source": [
        "# Data preprocessing"
      ]
    },
    {
      "cell_type": "code",
      "metadata": {
        "id": "jnii1CgdvdWn",
        "colab_type": "code",
        "colab": {
          "base_uri": "https://localhost:8080/",
          "height": 290
        },
        "outputId": "8aa69f96-b4d7-4abd-ffb1-b31bf54593aa"
      },
      "source": [
        "import catalyst\n",
        "from pathlib import Path\n",
        "from catalyst.dl import utils\n",
        "\n",
        "SEED = 42\n",
        "utils.set_global_seed(SEED)"
      ],
      "execution_count": 17,
      "outputs": [
        {
          "output_type": "stream",
          "text": [
            "/usr/lib/python3.6/importlib/_bootstrap.py:219: RuntimeWarning:\n",
            "\n",
            "numpy.ufunc size changed, may indicate binary incompatibility. Expected 216, got 192\n",
            "\n",
            "/usr/lib/python3.6/importlib/_bootstrap.py:219: ImportWarning:\n",
            "\n",
            "can't resolve package from __spec__ or __package__, falling back on __name__ and __path__\n",
            "\n",
            "/usr/local/lib/python3.6/dist-packages/tensorflow_core/python/keras/backend.py:5747: ResourceWarning:\n",
            "\n",
            "unclosed file <_io.TextIOWrapper name='/root/.keras/keras.json' mode='r' encoding='UTF-8'>\n",
            "\n"
          ],
          "name": "stderr"
        },
        {
          "output_type": "display_data",
          "data": {
            "text/html": [
              "<p style=\"color: red;\">\n",
              "The default version of TensorFlow in Colab will soon switch to TensorFlow 2.x.<br>\n",
              "We recommend you <a href=\"https://www.tensorflow.org/guide/migrate\" target=\"_blank\">upgrade</a> now \n",
              "or ensure your notebook will continue to use TensorFlow 1.x via the <code>%tensorflow_version 1.x</code> magic:\n",
              "<a href=\"https://colab.research.google.com/notebooks/tensorflow_version.ipynb\" target=\"_blank\">more info</a>.</p>\n"
            ],
            "text/plain": [
              "<IPython.core.display.HTML object>"
            ]
          },
          "metadata": {
            "tags": []
          }
        }
      ]
    },
    {
      "cell_type": "code",
      "metadata": {
        "id": "cQgGXoZNvy1Y",
        "colab_type": "code",
        "colab": {}
      },
      "source": [
        "ROOT = \"ICLR/\""
      ],
      "execution_count": 0,
      "outputs": []
    },
    {
      "cell_type": "code",
      "metadata": {
        "id": "PBQfuMV0v4vt",
        "colab_type": "code",
        "colab": {
          "base_uri": "https://localhost:8080/",
          "height": 206
        },
        "outputId": "56427333-42b6-45ab-df83-ffd005e1074f"
      },
      "source": [
        "from catalyst.utils import (\n",
        "    create_dataset, create_dataframe, get_dataset_labeling, map_dataframe\n",
        ")\n",
        "dataset = create_dataset(dirs=f\"{ROOT}train/train/*\", extension=\"*\")\n",
        "df = create_dataframe(dataset, columns=[\"class\", \"filepath\"])\n",
        "\n",
        "tag_to_label = get_dataset_labeling(df, \"class\")\n",
        "class_names = [\n",
        "    name for name, id_ in sorted(tag_to_label.items(), key=lambda x: x[1])\n",
        "]\n",
        "\n",
        "df_with_labels = map_dataframe(\n",
        "    df, \n",
        "    tag_column=\"class\", \n",
        "    class_column=\"label\", \n",
        "    tag2class=tag_to_label, \n",
        "    verbose=False\n",
        ")\n",
        "df_with_labels.head()"
      ],
      "execution_count": 14,
      "outputs": [
        {
          "output_type": "execute_result",
          "data": {
            "text/html": [
              "<div>\n",
              "<style scoped>\n",
              "    .dataframe tbody tr th:only-of-type {\n",
              "        vertical-align: middle;\n",
              "    }\n",
              "\n",
              "    .dataframe tbody tr th {\n",
              "        vertical-align: top;\n",
              "    }\n",
              "\n",
              "    .dataframe thead th {\n",
              "        text-align: right;\n",
              "    }\n",
              "</style>\n",
              "<table border=\"1\" class=\"dataframe\">\n",
              "  <thead>\n",
              "    <tr style=\"text-align: right;\">\n",
              "      <th></th>\n",
              "      <th>class</th>\n",
              "      <th>filepath</th>\n",
              "      <th>label</th>\n",
              "    </tr>\n",
              "  </thead>\n",
              "  <tbody>\n",
              "    <tr>\n",
              "      <th>0</th>\n",
              "      <td>healthy_wheat</td>\n",
              "      <td>ICLR/train/train/healthy_wheat/03TD19.jfif</td>\n",
              "      <td>0</td>\n",
              "    </tr>\n",
              "    <tr>\n",
              "      <th>1</th>\n",
              "      <td>healthy_wheat</td>\n",
              "      <td>ICLR/train/train/healthy_wheat/0LBIWV.jpg</td>\n",
              "      <td>0</td>\n",
              "    </tr>\n",
              "    <tr>\n",
              "      <th>2</th>\n",
              "      <td>healthy_wheat</td>\n",
              "      <td>ICLR/train/train/healthy_wheat/0O5BON.jfif</td>\n",
              "      <td>0</td>\n",
              "    </tr>\n",
              "    <tr>\n",
              "      <th>3</th>\n",
              "      <td>healthy_wheat</td>\n",
              "      <td>ICLR/train/train/healthy_wheat/0PFX47.jpg</td>\n",
              "      <td>0</td>\n",
              "    </tr>\n",
              "    <tr>\n",
              "      <th>4</th>\n",
              "      <td>healthy_wheat</td>\n",
              "      <td>ICLR/train/train/healthy_wheat/1LNMUQ.jfif</td>\n",
              "      <td>0</td>\n",
              "    </tr>\n",
              "  </tbody>\n",
              "</table>\n",
              "</div>"
            ],
            "text/plain": [
              "           class                                    filepath  label\n",
              "0  healthy_wheat  ICLR/train/train/healthy_wheat/03TD19.jfif      0\n",
              "1  healthy_wheat   ICLR/train/train/healthy_wheat/0LBIWV.jpg      0\n",
              "2  healthy_wheat  ICLR/train/train/healthy_wheat/0O5BON.jfif      0\n",
              "3  healthy_wheat   ICLR/train/train/healthy_wheat/0PFX47.jpg      0\n",
              "4  healthy_wheat  ICLR/train/train/healthy_wheat/1LNMUQ.jfif      0"
            ]
          },
          "metadata": {
            "tags": []
          },
          "execution_count": 14
        }
      ]
    },
    {
      "cell_type": "code",
      "metadata": {
        "id": "3EKp-8G8v-yd",
        "colab_type": "code",
        "colab": {
          "base_uri": "https://localhost:8080/",
          "height": 34
        },
        "outputId": "48ced3ad-582a-4deb-b892-a253d2f174b6"
      },
      "source": [
        "df_with_labels.shape"
      ],
      "execution_count": 15,
      "outputs": [
        {
          "output_type": "execute_result",
          "data": {
            "text/plain": [
              "(875, 3)"
            ]
          },
          "metadata": {
            "tags": []
          },
          "execution_count": 15
        }
      ]
    },
    {
      "cell_type": "code",
      "metadata": {
        "id": "OsGypnhywDKY",
        "colab_type": "code",
        "colab": {
          "base_uri": "https://localhost:8080/",
          "height": 224
        },
        "outputId": "c0f3efa4-e5eb-4594-fa2d-618ad42033de"
      },
      "source": [
        "df_with_labels = catalyst.utils.pandas.balance_classes(df_with_labels, class_column='label',\n",
        "                                                    random_state=SEED, how='upsampling')\n",
        "print(df_with_labels.shape)\n",
        "df_with_labels.head()"
      ],
      "execution_count": 18,
      "outputs": [
        {
          "output_type": "stream",
          "text": [
            "(1128, 3)\n"
          ],
          "name": "stdout"
        },
        {
          "output_type": "execute_result",
          "data": {
            "text/html": [
              "<div>\n",
              "<style scoped>\n",
              "    .dataframe tbody tr th:only-of-type {\n",
              "        vertical-align: middle;\n",
              "    }\n",
              "\n",
              "    .dataframe tbody tr th {\n",
              "        vertical-align: top;\n",
              "    }\n",
              "\n",
              "    .dataframe thead th {\n",
              "        text-align: right;\n",
              "    }\n",
              "</style>\n",
              "<table border=\"1\" class=\"dataframe\">\n",
              "  <thead>\n",
              "    <tr style=\"text-align: right;\">\n",
              "      <th></th>\n",
              "      <th>class</th>\n",
              "      <th>filepath</th>\n",
              "      <th>label</th>\n",
              "    </tr>\n",
              "  </thead>\n",
              "  <tbody>\n",
              "    <tr>\n",
              "      <th>0</th>\n",
              "      <td>healthy_wheat</td>\n",
              "      <td>ICLR/train/train/healthy_wheat/03TD19.jfif</td>\n",
              "      <td>0</td>\n",
              "    </tr>\n",
              "    <tr>\n",
              "      <th>1</th>\n",
              "      <td>healthy_wheat</td>\n",
              "      <td>ICLR/train/train/healthy_wheat/0LBIWV.jpg</td>\n",
              "      <td>0</td>\n",
              "    </tr>\n",
              "    <tr>\n",
              "      <th>2</th>\n",
              "      <td>healthy_wheat</td>\n",
              "      <td>ICLR/train/train/healthy_wheat/0O5BON.jfif</td>\n",
              "      <td>0</td>\n",
              "    </tr>\n",
              "    <tr>\n",
              "      <th>3</th>\n",
              "      <td>healthy_wheat</td>\n",
              "      <td>ICLR/train/train/healthy_wheat/0PFX47.jpg</td>\n",
              "      <td>0</td>\n",
              "    </tr>\n",
              "    <tr>\n",
              "      <th>4</th>\n",
              "      <td>healthy_wheat</td>\n",
              "      <td>ICLR/train/train/healthy_wheat/1LNMUQ.jfif</td>\n",
              "      <td>0</td>\n",
              "    </tr>\n",
              "  </tbody>\n",
              "</table>\n",
              "</div>"
            ],
            "text/plain": [
              "           class                                    filepath  label\n",
              "0  healthy_wheat  ICLR/train/train/healthy_wheat/03TD19.jfif      0\n",
              "1  healthy_wheat   ICLR/train/train/healthy_wheat/0LBIWV.jpg      0\n",
              "2  healthy_wheat  ICLR/train/train/healthy_wheat/0O5BON.jfif      0\n",
              "3  healthy_wheat   ICLR/train/train/healthy_wheat/0PFX47.jpg      0\n",
              "4  healthy_wheat  ICLR/train/train/healthy_wheat/1LNMUQ.jfif      0"
            ]
          },
          "metadata": {
            "tags": []
          },
          "execution_count": 18
        }
      ]
    },
    {
      "cell_type": "code",
      "metadata": {
        "id": "VQ_mTcWbwGey",
        "colab_type": "code",
        "colab": {
          "base_uri": "https://localhost:8080/",
          "height": 206
        },
        "outputId": "fd414894-2ebe-4e73-951f-7e102d3cf5ac"
      },
      "source": [
        "df_with_labels.loc[:,'kfold'] = -1\n",
        "df_with_labels.head()"
      ],
      "execution_count": 19,
      "outputs": [
        {
          "output_type": "execute_result",
          "data": {
            "text/html": [
              "<div>\n",
              "<style scoped>\n",
              "    .dataframe tbody tr th:only-of-type {\n",
              "        vertical-align: middle;\n",
              "    }\n",
              "\n",
              "    .dataframe tbody tr th {\n",
              "        vertical-align: top;\n",
              "    }\n",
              "\n",
              "    .dataframe thead th {\n",
              "        text-align: right;\n",
              "    }\n",
              "</style>\n",
              "<table border=\"1\" class=\"dataframe\">\n",
              "  <thead>\n",
              "    <tr style=\"text-align: right;\">\n",
              "      <th></th>\n",
              "      <th>class</th>\n",
              "      <th>filepath</th>\n",
              "      <th>label</th>\n",
              "      <th>kfold</th>\n",
              "    </tr>\n",
              "  </thead>\n",
              "  <tbody>\n",
              "    <tr>\n",
              "      <th>0</th>\n",
              "      <td>healthy_wheat</td>\n",
              "      <td>ICLR/train/train/healthy_wheat/03TD19.jfif</td>\n",
              "      <td>0</td>\n",
              "      <td>-1</td>\n",
              "    </tr>\n",
              "    <tr>\n",
              "      <th>1</th>\n",
              "      <td>healthy_wheat</td>\n",
              "      <td>ICLR/train/train/healthy_wheat/0LBIWV.jpg</td>\n",
              "      <td>0</td>\n",
              "      <td>-1</td>\n",
              "    </tr>\n",
              "    <tr>\n",
              "      <th>2</th>\n",
              "      <td>healthy_wheat</td>\n",
              "      <td>ICLR/train/train/healthy_wheat/0O5BON.jfif</td>\n",
              "      <td>0</td>\n",
              "      <td>-1</td>\n",
              "    </tr>\n",
              "    <tr>\n",
              "      <th>3</th>\n",
              "      <td>healthy_wheat</td>\n",
              "      <td>ICLR/train/train/healthy_wheat/0PFX47.jpg</td>\n",
              "      <td>0</td>\n",
              "      <td>-1</td>\n",
              "    </tr>\n",
              "    <tr>\n",
              "      <th>4</th>\n",
              "      <td>healthy_wheat</td>\n",
              "      <td>ICLR/train/train/healthy_wheat/1LNMUQ.jfif</td>\n",
              "      <td>0</td>\n",
              "      <td>-1</td>\n",
              "    </tr>\n",
              "  </tbody>\n",
              "</table>\n",
              "</div>"
            ],
            "text/plain": [
              "           class                                    filepath  label  kfold\n",
              "0  healthy_wheat  ICLR/train/train/healthy_wheat/03TD19.jfif      0     -1\n",
              "1  healthy_wheat   ICLR/train/train/healthy_wheat/0LBIWV.jpg      0     -1\n",
              "2  healthy_wheat  ICLR/train/train/healthy_wheat/0O5BON.jfif      0     -1\n",
              "3  healthy_wheat   ICLR/train/train/healthy_wheat/0PFX47.jpg      0     -1\n",
              "4  healthy_wheat  ICLR/train/train/healthy_wheat/1LNMUQ.jfif      0     -1"
            ]
          },
          "metadata": {
            "tags": []
          },
          "execution_count": 19
        }
      ]
    },
    {
      "cell_type": "code",
      "metadata": {
        "id": "0jDAnzKnwSgl",
        "colab_type": "code",
        "colab": {
          "base_uri": "https://localhost:8080/",
          "height": 206
        },
        "outputId": "7b2d4a13-242d-4199-c564-0d6d9293e200"
      },
      "source": [
        "df_with_labels = df_with_labels.sample(frac=1).reset_index(drop=True)\n",
        "df_with_labels.head()"
      ],
      "execution_count": 20,
      "outputs": [
        {
          "output_type": "execute_result",
          "data": {
            "text/html": [
              "<div>\n",
              "<style scoped>\n",
              "    .dataframe tbody tr th:only-of-type {\n",
              "        vertical-align: middle;\n",
              "    }\n",
              "\n",
              "    .dataframe tbody tr th {\n",
              "        vertical-align: top;\n",
              "    }\n",
              "\n",
              "    .dataframe thead th {\n",
              "        text-align: right;\n",
              "    }\n",
              "</style>\n",
              "<table border=\"1\" class=\"dataframe\">\n",
              "  <thead>\n",
              "    <tr style=\"text-align: right;\">\n",
              "      <th></th>\n",
              "      <th>class</th>\n",
              "      <th>filepath</th>\n",
              "      <th>label</th>\n",
              "      <th>kfold</th>\n",
              "    </tr>\n",
              "  </thead>\n",
              "  <tbody>\n",
              "    <tr>\n",
              "      <th>0</th>\n",
              "      <td>stem_rust</td>\n",
              "      <td>ICLR/train/train/stem_rust/1CQ95E.JPG</td>\n",
              "      <td>2</td>\n",
              "      <td>-1</td>\n",
              "    </tr>\n",
              "    <tr>\n",
              "      <th>1</th>\n",
              "      <td>stem_rust</td>\n",
              "      <td>ICLR/train/train/stem_rust/7QBIPY.jpg</td>\n",
              "      <td>2</td>\n",
              "      <td>-1</td>\n",
              "    </tr>\n",
              "    <tr>\n",
              "      <th>2</th>\n",
              "      <td>leaf_rust</td>\n",
              "      <td>ICLR/train/train/leaf_rust/1Z2P44.jpg</td>\n",
              "      <td>1</td>\n",
              "      <td>-1</td>\n",
              "    </tr>\n",
              "    <tr>\n",
              "      <th>3</th>\n",
              "      <td>healthy_wheat</td>\n",
              "      <td>ICLR/train/train/healthy_wheat/ZB9CAK.jpg</td>\n",
              "      <td>0</td>\n",
              "      <td>-1</td>\n",
              "    </tr>\n",
              "    <tr>\n",
              "      <th>4</th>\n",
              "      <td>stem_rust</td>\n",
              "      <td>ICLR/train/train/stem_rust/4PS17R.jpg</td>\n",
              "      <td>2</td>\n",
              "      <td>-1</td>\n",
              "    </tr>\n",
              "  </tbody>\n",
              "</table>\n",
              "</div>"
            ],
            "text/plain": [
              "           class                                   filepath  label  kfold\n",
              "0      stem_rust      ICLR/train/train/stem_rust/1CQ95E.JPG      2     -1\n",
              "1      stem_rust      ICLR/train/train/stem_rust/7QBIPY.jpg      2     -1\n",
              "2      leaf_rust      ICLR/train/train/leaf_rust/1Z2P44.jpg      1     -1\n",
              "3  healthy_wheat  ICLR/train/train/healthy_wheat/ZB9CAK.jpg      0     -1\n",
              "4      stem_rust      ICLR/train/train/stem_rust/4PS17R.jpg      2     -1"
            ]
          },
          "metadata": {
            "tags": []
          },
          "execution_count": 20
        }
      ]
    },
    {
      "cell_type": "code",
      "metadata": {
        "id": "rBDJf3ldwVUj",
        "colab_type": "code",
        "colab": {}
      },
      "source": [
        "from sklearn.model_selection import StratifiedKFold\n",
        "import numpy as np\n",
        "\n",
        "X = df_with_labels.filepath.values\n",
        "y = df_with_labels.label.values\n",
        "\n",
        "skf = StratifiedKFold(n_splits=5)\n",
        "\n",
        "for fold, (train_index, val_index) in enumerate(skf.split(X, y)):\n",
        "    #print(\"TRAIN:\", train_index, \"TEST:\", val_index)\n",
        "    df_with_labels.loc[val_index, 'kfold'] = fold"
      ],
      "execution_count": 0,
      "outputs": []
    },
    {
      "cell_type": "code",
      "metadata": {
        "id": "DKx2VLxfwYlp",
        "colab_type": "code",
        "colab": {
          "base_uri": "https://localhost:8080/",
          "height": 121
        },
        "outputId": "99d18186-8d47-40e5-d634-7c5fb0ee8294"
      },
      "source": [
        "df_with_labels.kfold.value_counts()"
      ],
      "execution_count": 22,
      "outputs": [
        {
          "output_type": "execute_result",
          "data": {
            "text/plain": [
              "2    226\n",
              "1    226\n",
              "0    226\n",
              "4    225\n",
              "3    225\n",
              "Name: kfold, dtype: int64"
            ]
          },
          "metadata": {
            "tags": []
          },
          "execution_count": 22
        }
      ]
    },
    {
      "cell_type": "code",
      "metadata": {
        "id": "KE5OrG98wcA3",
        "colab_type": "code",
        "colab": {
          "base_uri": "https://localhost:8080/",
          "height": 206
        },
        "outputId": "7db6d0f4-1929-4da2-b621-b86935eb3ae4"
      },
      "source": [
        "df_with_labels.head()"
      ],
      "execution_count": 23,
      "outputs": [
        {
          "output_type": "execute_result",
          "data": {
            "text/html": [
              "<div>\n",
              "<style scoped>\n",
              "    .dataframe tbody tr th:only-of-type {\n",
              "        vertical-align: middle;\n",
              "    }\n",
              "\n",
              "    .dataframe tbody tr th {\n",
              "        vertical-align: top;\n",
              "    }\n",
              "\n",
              "    .dataframe thead th {\n",
              "        text-align: right;\n",
              "    }\n",
              "</style>\n",
              "<table border=\"1\" class=\"dataframe\">\n",
              "  <thead>\n",
              "    <tr style=\"text-align: right;\">\n",
              "      <th></th>\n",
              "      <th>class</th>\n",
              "      <th>filepath</th>\n",
              "      <th>label</th>\n",
              "      <th>kfold</th>\n",
              "    </tr>\n",
              "  </thead>\n",
              "  <tbody>\n",
              "    <tr>\n",
              "      <th>0</th>\n",
              "      <td>stem_rust</td>\n",
              "      <td>ICLR/train/train/stem_rust/1CQ95E.JPG</td>\n",
              "      <td>2</td>\n",
              "      <td>0</td>\n",
              "    </tr>\n",
              "    <tr>\n",
              "      <th>1</th>\n",
              "      <td>stem_rust</td>\n",
              "      <td>ICLR/train/train/stem_rust/7QBIPY.jpg</td>\n",
              "      <td>2</td>\n",
              "      <td>0</td>\n",
              "    </tr>\n",
              "    <tr>\n",
              "      <th>2</th>\n",
              "      <td>leaf_rust</td>\n",
              "      <td>ICLR/train/train/leaf_rust/1Z2P44.jpg</td>\n",
              "      <td>1</td>\n",
              "      <td>0</td>\n",
              "    </tr>\n",
              "    <tr>\n",
              "      <th>3</th>\n",
              "      <td>healthy_wheat</td>\n",
              "      <td>ICLR/train/train/healthy_wheat/ZB9CAK.jpg</td>\n",
              "      <td>0</td>\n",
              "      <td>0</td>\n",
              "    </tr>\n",
              "    <tr>\n",
              "      <th>4</th>\n",
              "      <td>stem_rust</td>\n",
              "      <td>ICLR/train/train/stem_rust/4PS17R.jpg</td>\n",
              "      <td>2</td>\n",
              "      <td>0</td>\n",
              "    </tr>\n",
              "  </tbody>\n",
              "</table>\n",
              "</div>"
            ],
            "text/plain": [
              "           class                                   filepath  label  kfold\n",
              "0      stem_rust      ICLR/train/train/stem_rust/1CQ95E.JPG      2      0\n",
              "1      stem_rust      ICLR/train/train/stem_rust/7QBIPY.jpg      2      0\n",
              "2      leaf_rust      ICLR/train/train/leaf_rust/1Z2P44.jpg      1      0\n",
              "3  healthy_wheat  ICLR/train/train/healthy_wheat/ZB9CAK.jpg      0      0\n",
              "4      stem_rust      ICLR/train/train/stem_rust/4PS17R.jpg      2      0"
            ]
          },
          "metadata": {
            "tags": []
          },
          "execution_count": 23
        }
      ]
    },
    {
      "cell_type": "code",
      "metadata": {
        "id": "uyootN23wige",
        "colab_type": "code",
        "colab": {
          "base_uri": "https://localhost:8080/",
          "height": 34
        },
        "outputId": "60a571e5-7af4-4eef-faeb-2ad032262a51"
      },
      "source": [
        "df_with_labels.shape"
      ],
      "execution_count": 24,
      "outputs": [
        {
          "output_type": "execute_result",
          "data": {
            "text/plain": [
              "(1128, 4)"
            ]
          },
          "metadata": {
            "tags": []
          },
          "execution_count": 24
        }
      ]
    },
    {
      "cell_type": "code",
      "metadata": {
        "id": "1kGOyDmXwkjL",
        "colab_type": "code",
        "colab": {}
      },
      "source": [
        "df_with_labels.to_csv('labels.csv', index=False)"
      ],
      "execution_count": 0,
      "outputs": []
    },
    {
      "cell_type": "code",
      "metadata": {
        "id": "9t9XRWTKwrMl",
        "colab_type": "code",
        "colab": {}
      },
      "source": [
        ""
      ],
      "execution_count": 0,
      "outputs": []
    }
  ]
}